{
  "nbformat": 4,
  "nbformat_minor": 0,
  "metadata": {
    "colab": {
      "name": "2020/04/14: 20新卒データベース研修: チュートリアル",
      "provenance": [],
      "collapsed_sections": [
        "O0JSX3kweM_4",
        "SUOhGbIsQ9Uc",
        "Ex5jWHdRPlLw",
        "Qpm9IzgzRmDc",
        "byCPL4XmWt_A",
        "mSm54b1JVttb",
        "_YM3qtkfWy5h",
        "0IOD5ZAyW3L5",
        "qgrA2vQiXDIZ",
        "BGM-C9QlXPg3",
        "fA9pD_O_Z3At",
        "fvrXBeVeXkvm",
        "sYnm6RoyaFp-",
        "5s_jxWJtiEUg",
        "_PfTdgmk6aR5",
        "7ynaJ8rq6-lT",
        "wq7XQMTE776v",
        "0tzg64sMBRVs",
        "zmUu04YEDGnx",
        "6hfLLsRNvy_h",
        "Qay3BCj4v7Jz",
        "u0BlpIxQv-1c",
        "hNLP38-d6GVr",
        "WrgOCAHD6MAX",
        "Zkg_Iofl6woF",
        "MFGTZcqYBd-2",
        "ox_ajKmhBj-T"
      ],
      "toc_visible": true
    },
    "kernelspec": {
      "name": "python3",
      "display_name": "Python 3"
    }
  },
  "cells": [
    {
      "cell_type": "markdown",
      "metadata": {
        "id": "Z-wi6L8E9XSz",
        "colab_type": "text"
      },
      "source": [
        "# 20新卒データベース研修: チュートリアル\n",
        "\n",
        "Google Colaboratory（通称Colab）を利用すると Python のスクリプトを対話的に実行した結果をノートブックという形式でまとめることができます。ここではGoogleのBigQueryというサービスやSQLiteというアプリケーションに組み込み可能なリレーショナルデータベースを利用しSQLクエリなどの使い方を学んでいきます。\n",
        "\n",
        "```\n",
        "【注意】新型コロナウイルスに関係するオープンデータを取り扱っています\n",
        "新型コロナウイルスについては、必ず1次情報として厚生労働省や首相官邸のウェブサイトなど公的機関で発表されている情報をご確認ください\n",
        "```"
      ]
    },
    {
      "cell_type": "markdown",
      "metadata": {
        "id": "18qYxtd8KmjW",
        "colab_type": "text"
      },
      "source": [
        "### 目次\n",
        "\n",
        "1. 設定\n",
        "2. データの取得\n",
        "3. データの操作\n",
        "4. 集計処理\n",
        "5. 集合操作\n",
        "6. インデックス\n",
        "7. 分析関数\n",
        "8. データ活用"
      ]
    },
    {
      "cell_type": "markdown",
      "metadata": {
        "id": "VgyMf9gmf88Y",
        "colab_type": "text"
      },
      "source": [
        "## 設定"
      ]
    },
    {
      "cell_type": "markdown",
      "metadata": {
        "id": "BB_IX1W1KgDs",
        "colab_type": "text"
      },
      "source": [
        "### Google Cloud SDKの設定\n",
        "\n",
        "最初にBigQueryを利用するための環境を構築していきます。まずはGoogleアカウントのOAuthトークンを取得しノートブック上でGoogle Cloud SDKを利用できるようにします。\n",
        "\n",
        "OAuth認証の流れ\n",
        "\n",
        "- 下記の\"OAuth認証\"スクリプトを実行する（Shift + Enter）\n",
        "- 表示されるURLをブラウザで開きColaboratoryによるアクセスを許可\n",
        "- 英数字と記号からなるトークン文字列をコピー\n",
        "- URLの下に入力されている入力ボックスにトークン文字列をペーストしてEnter\n",
        "\n",
        "まずは下の`OAuth認証`と書かれたスクリプトを実行してみましょう。\n",
        "\n"
      ]
    },
    {
      "cell_type": "code",
      "metadata": {
        "id": "xpULCiLu9IKb",
        "colab_type": "code",
        "colab": {}
      },
      "source": [
        "#\n",
        "# OAuth認証\n",
        "#\n",
        "from google.colab import auth\n",
        "auth.authenticate_user()"
      ],
      "execution_count": 0,
      "outputs": []
    },
    {
      "cell_type": "markdown",
      "metadata": {
        "id": "upi2hbGjkeh8",
        "colab_type": "text"
      },
      "source": [
        "`!`（びっくりマーク）で始まる行はシェルコマンドとして取り扱われます。\n",
        "\n",
        "gcloud コマンドを使って認証情報が設定できたか確認していきます。"
      ]
    },
    {
      "cell_type": "code",
      "metadata": {
        "id": "3mjIyzGWDeQS",
        "colab_type": "code",
        "colab": {}
      },
      "source": [
        "# このセルの実行結果に自分のメールアドレスが表示されたら準備完了です\n",
        "! gcloud auth list"
      ],
      "execution_count": 0,
      "outputs": []
    },
    {
      "cell_type": "markdown",
      "metadata": {
        "id": "AcOP5gmxmMIC",
        "colab_type": "text"
      },
      "source": [
        "Google Cloud SDKの設定を確認できたら安全のためブラウザのトークンが表示されているタブを閉じておきましょう。"
      ]
    },
    {
      "cell_type": "markdown",
      "metadata": {
        "id": "-aYYRIbED1qh",
        "colab_type": "text"
      },
      "source": [
        "### 研修用のGCPプロジェクトを作成する\n",
        "\n",
        "GCPに限らずクラウドサービスでは無料枠が提供されていることがあります。クラウドサービスのコスト感を掴むには実際に触ってみるのが手っ取り早いです。基本的にはクラウドサービス側の思惑で料金が決まっているので触ってみると思っているより安かったり高かったりすることがあります。\n",
        "\n",
        "今回はBigQuery（Sandbox）を利用するために研修用のGCPプロジェクトを作成してみましょう。"
      ]
    },
    {
      "cell_type": "code",
      "metadata": {
        "id": "Gi97T4kn8stY",
        "colab_type": "code",
        "colab": {}
      },
      "source": [
        "import uuid\n",
        "PROJECT_ID=f'db-training-2020-{str(uuid.uuid4())[:8]}'\n",
        "\n",
        "PROJECT_ID"
      ],
      "execution_count": 0,
      "outputs": []
    },
    {
      "cell_type": "markdown",
      "metadata": {
        "id": "6eRXYtOJmBKJ",
        "colab_type": "text"
      },
      "source": [
        "上のセルを実行して表示されたプロジェクトを今回の研修で利用します。"
      ]
    },
    {
      "cell_type": "code",
      "metadata": {
        "id": "1805qjU-EDDv",
        "colab_type": "code",
        "colab": {}
      },
      "source": [
        "! gcloud projects create {PROJECT_ID}"
      ],
      "execution_count": 0,
      "outputs": []
    },
    {
      "cell_type": "markdown",
      "metadata": {
        "id": "776D10cUF4It",
        "colab_type": "text"
      },
      "source": [
        "下記のスクリプトで出力されるURLを開くとBigQueryのWebコンソール画面に入ることができます。"
      ]
    },
    {
      "cell_type": "code",
      "metadata": {
        "id": "uRNfilkAEJjz",
        "colab_type": "code",
        "colab": {}
      },
      "source": [
        "print(f'http://console.cloud.google.com/bigquery?project={PROJECT_ID}')"
      ],
      "execution_count": 0,
      "outputs": []
    },
    {
      "cell_type": "markdown",
      "metadata": {
        "id": "CuEcZvsfIfUz",
        "colab_type": "text"
      },
      "source": [
        "### BigQueryを使ってみる\n",
        "\n",
        "ここで `%%` で始まる行はセルマジックと呼ばれる機能でセルに対して拡張機能で操作を行うときに使用します。ここでは BigQuery との連携機能を使用しており `%%bigquery` という文字列の下にあるSQLクエリを BigQuery 上で実行することができます。\n",
        "\n",
        "`--project`はBigQueryを利用するGCPプロジェクト名の指定です。`{PROJECT_ID}`のように波括弧で囲まれた文字列はPythonの式として評価され先ほど作成したプロジェクトを指定しています。"
      ]
    },
    {
      "cell_type": "code",
      "metadata": {
        "id": "_3Qg-J2YF_Oz",
        "colab_type": "code",
        "colab": {}
      },
      "source": [
        "%%bigquery --project {PROJECT_ID}\n",
        "select 'Hello' as World"
      ],
      "execution_count": 0,
      "outputs": []
    },
    {
      "cell_type": "markdown",
      "metadata": {
        "id": "wvzK6jueKImu",
        "colab_type": "text"
      },
      "source": [
        "上記のSQLを実行し下の画像のような結果が表示されたら設定完了です 👌"
      ]
    },
    {
      "cell_type": "markdown",
      "metadata": {
        "id": "wL3NwajTJnaA",
        "colab_type": "text"
      },
      "source": [
        "![image.png](data:image/png;base64,iVBORw0KGgoAAAANSUhEUgAAAIYAAABMCAYAAACoCs9DAAAElUlEQVR4Ae2cvU0lQRCESYUEIAAyAAlEBERAGPgkgYVNAjhEgIOwMUFYmHOqx9Vc09f7N4zezqzqSavtnd9+Vd/O7ILgIOkjBQIFDoIyFUmBJDAEQaiAwAhlUaHAEAOhAgIjlEWFAkMMhAoIjFAWFQoMMRAqIDBCWVQoMMRAqIDACGVR4Swwnp6e0u3t7eiBNvpsR4FZYACKw8PD0QNt9NmOAovAGPragEZgDKnTZ3kVMACFtpI+ARjKugoYHPzz83O3cjw/P7NI504VqAoGNLi/v09HR0epdzje39/T5eVlenh4+HFGGepqfTjP1Lhz29XKqwoY/q3l7OwsHR8fdw0HjRAYI6jxrWSoiQfj9PS0+1VDYAy5bcqnwDBNtZVYMWbEBHCTWwm//5YePmnY2FbCNvwZjzeX9RwD7Yba+HJoyv7oxzGidtS/5rnKM8YWX1dpCg3hmcawfujaG8t23jw/Dutt+evr6w6oCCy2r32uAgYSBhxb+9AcDwW+J+touL+O2kT6RP2ivkPtojFrlC0CAwAMHQLj+/WWoETmRoYNGe7L/XU0Vs2yWWD4tw5A4I8t/uSTZmjFqIncBsZqBYxmnzE24HHRVxgDAwOyntur3UZsvS+3yXCMqA3rMH60atlxaseztpLak2q89hUQGO17tEqGAmMV2dufVGC079EqGQqMVWRvf1KB0b5Hq2QoMFaRvf1JBUb7Hq2SocBYRfb2JxUY7Xu0SoYCYxXZ25+0eTBeXl6SjuUa/Ba95sH4+vpKOpZrIDAETnjjCAyBITC0pczfUrRiaMXQiqEVQytGXgkFw3wYrFZZwMJAr6sb3YoKecjdBIbAyDDYQGCsDMbj42O6vr5OHx8fu4fIu7u7dHNzEz5Q2q1iKrYml8SbAAP/pOXk5OTHX8lB8CnxSuthIsyEiX4M5HJ1dZXe3t7+q/NtcS0wSrBNaVJcQnFxcbEzg6bhbzEi4yJzlpZxjmh8gVFo9NJuU6Zh2fUQ4C5EmV2ip8ZZUr8UDMKLnHxeUysG54r6juW8VGffvuutxIpmtw4age0F8ZiAJXWcd86KgfnPz89/5AGY+RwxBkY0D+acA7w3eul112BgH8cWgrtpDTB4F/sztzVABwBsbigDLHwOGQPD16EvYfFjesCXguDbC4yCtxKaM7VisJ0HB9eEx5uPMbma2Ngaj/pobtvGG730umswrPD2DmplK2F+NjdrHmKBsRTZv+29kP4adw/uQHsHQWyUzdmL/Xhzrmm4nZP97DaBMuTHFYBt7HkMDF+HfpwbdXYcHxfKnbt1vWJADK4OXJopnIfFC/eba84xBwzmZ43EsxFgwTjefIxJkKJ5UD8H+OxwYdA9GBYOwMDDGvEbCKK+kWFs51eMofwI1RgY6GsfsJesgoU85G6bAIOm6PzvN7HZ4cJAYBS8lfQAYCEPuZvAEBgZBhsIDIFhecixwBAYGQYbCAyBYXnIscAQGBkGGwgMgWF5yLHAEBgZBhsIDIFhecixwBAYGQYbNA+GTVbx/hQQGPvTuquZBEZXdu0vWYGxP627mklgdGXX/pL9AxX3WgCi9lohAAAAAElFTkSuQmCC)"
      ]
    },
    {
      "cell_type": "markdown",
      "metadata": {
        "id": "O0JSX3kweM_4",
        "colab_type": "text"
      },
      "source": [
        "### Colab TIPS: コーギーを表示するには 🐶\n",
        "\n",
        "[ツール] => [設定] => [その他] で [コーギーモードを有効化] するとコーギーが走ります。\n",
        "\n",
        "![image.png](data:image/png;base64,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)"
      ]
    },
    {
      "cell_type": "markdown",
      "metadata": {
        "id": "0on6LgBqKZ5d",
        "colab_type": "text"
      },
      "source": [
        "## データの取得\n",
        "\n",
        "BigQueryでは学習用に公開データセットが提供されています。まずはどんなデータがあるかの調査を通してSELECT文の使い方を学んでみましょう。\n",
        "\n",
        "BigQueryではINFORMATION_SCHEMAというテーブル情報を取得するためのメタデータが提供されており、これを利用することでテーブル情報を取得することができます。MySQLやPostgreSQLなどのRDBMSでも同様のスキーマ情報が提供されており、これを利用することでテーブル管理が容易になることがあります。"
      ]
    },
    {
      "cell_type": "markdown",
      "metadata": {
        "id": "SUOhGbIsQ9Uc",
        "colab_type": "text"
      },
      "source": [
        "### SELECT 文: 基本形\n",
        "\n",
        "SQLクエリを使ってデータを取得する時はSELECT文を利用します。\n",
        "\n",
        "```sql\n",
        "    SELECT\n",
        "        <式>\n",
        "    FROM\n",
        "        <テーブル名>\n",
        "    WHERE\n",
        "        <検索条件>\n",
        "```\n",
        "\n",
        "下記のクエリではJohns Hopkins大学が提供する新型コロナウイルス（COVID-19）に関する公開データセットに関する情報を取得します。\n",
        "\n",
        "- Project ID: `bigquery-public-data`\n",
        "- Dataset Name: `covid19_jhu_csse`\n",
        "- Schema Name: `INFORMATION_SCHEMA`\n",
        "- テーブル名: `TABLES`"
      ]
    },
    {
      "cell_type": "code",
      "metadata": {
        "id": "G1KN4vKyFkjJ",
        "colab_type": "code",
        "colab": {}
      },
      "source": [
        "%%bigquery --project {PROJECT_ID}\n",
        "-- これはコメントです\n",
        "select\n",
        "  -- 全てのカラムを取ってくる\n",
        "  *\n",
        "from\n",
        "  bigquery-public-data.covid19_jhu_csse.INFORMATION_SCHEMA.TABLES"
      ],
      "execution_count": 0,
      "outputs": []
    },
    {
      "cell_type": "markdown",
      "metadata": {
        "id": "rkp13BSfoEVk",
        "colab_type": "text"
      },
      "source": [
        "テーブル名や作成時刻が確認できました。"
      ]
    },
    {
      "cell_type": "markdown",
      "metadata": {
        "id": "Ex5jWHdRPlLw",
        "colab_type": "text"
      },
      "source": [
        "### LIMIT 句\n",
        "\n",
        "LIMIT句を利用することで取得するレコード数を制限することができます。大量データを取得するとデータベースのクライアントが捌ききれずトラブルに繋がる場合があるので、SELECT文を使ってデータを見るときはLIMIT句でデータ量を制限するようにしておくことをお勧めします。\n",
        "\n",
        "ここではLIMIT句を使って confirmed_cases というテーブルに含まれるレコードを3件表示してみましょう。"
      ]
    },
    {
      "cell_type": "code",
      "metadata": {
        "id": "K_7TB-WCM-PY",
        "colab_type": "code",
        "colab": {}
      },
      "source": [
        "%%bigquery --project {PROJECT_ID}\n",
        "select\n",
        "  *\n",
        "from\n",
        "  bigquery-public-data.covid19_jhu_csse.confirmed_cases\n",
        "limit 3"
      ],
      "execution_count": 0,
      "outputs": []
    },
    {
      "cell_type": "markdown",
      "metadata": {
        "id": "Qpm9IzgzRmDc",
        "colab_type": "text"
      },
      "source": [
        "### 検索\n",
        "\n",
        "WHERE句に検索条件を指定すると取得対象のレコードを絞り込むことができます。\n",
        "\n",
        "先ほどのクエリの結果をみると `country_region` というカラムが国名を表しているようですのでWHERE句を使って試しに日本（JAPAN）のレコードを取得してみましょう。\n",
        "\n"
      ]
    },
    {
      "cell_type": "code",
      "metadata": {
        "id": "tWbwWGe4Pq9T",
        "colab_type": "code",
        "colab": {}
      },
      "source": [
        "%%bigquery --project {PROJECT_ID}\n",
        "select\n",
        "  *\n",
        "from\n",
        "  bigquery-public-data.covid19_jhu_csse.confirmed_cases\n",
        "where\n",
        "  country_region = 'JAPAN'"
      ],
      "execution_count": 0,
      "outputs": []
    },
    {
      "cell_type": "markdown",
      "metadata": {
        "id": "aVH0Da5vSC4S",
        "colab_type": "text"
      },
      "source": [
        "はい、表示されませんでした。どうやら日本を表す `country_region` は `JAPAN` ではないようです。LIKE 演算子を利用すると文字列のパターンマッチングが出来るのでこれを使って `J` で始まる country_region を検索してみましょう。"
      ]
    },
    {
      "cell_type": "code",
      "metadata": {
        "id": "6TIvJogrR_X6",
        "colab_type": "code",
        "colab": {}
      },
      "source": [
        "%%bigquery --project {PROJECT_ID}\n",
        "select\n",
        "  country_region\n",
        "from\n",
        "  bigquery-public-data.covid19_jhu_csse.confirmed_cases\n",
        "where\n",
        "  country_region LIKE 'J%'"
      ],
      "execution_count": 0,
      "outputs": []
    },
    {
      "cell_type": "markdown",
      "metadata": {
        "id": "dgcmzU_1Slz4",
        "colab_type": "text"
      },
      "source": [
        "`Japan` は見つかったでしょうか。先ほどのクエリのWHERE句を Japan に修正して再度実行してみます。"
      ]
    },
    {
      "cell_type": "code",
      "metadata": {
        "id": "JtQ6BC0mSi0x",
        "colab_type": "code",
        "colab": {}
      },
      "source": [
        "%%bigquery --project {PROJECT_ID}\n",
        "select\n",
        "  *\n",
        "from\n",
        "  bigquery-public-data.covid19_jhu_csse.confirmed_cases\n",
        "where\n",
        "  country_region = 'Japan'"
      ],
      "execution_count": 0,
      "outputs": []
    },
    {
      "cell_type": "markdown",
      "metadata": {
        "id": "IrN659s4S02_",
        "colab_type": "text"
      },
      "source": [
        "日本の感染者数に関するデータが取得できました。国名を表すカラムのほかには位置情報に関する情報も入っており、`_1_22_20` などのカラムは `MM/DD/YY` 形式である日付における感染者数を表しているようです。"
      ]
    },
    {
      "cell_type": "markdown",
      "metadata": {
        "id": "LIH_nfOHTlrJ",
        "colab_type": "text"
      },
      "source": [
        "## データの操作\n",
        "\n",
        "ここからBigQueryに代わってSQLiteを使ってテーブルにレコードを追加・更新・削除する方法について確認していきます。\n",
        "\n",
        "> CRUD（クラッド）とは、ほとんど全てのコンピュータソフトウェアが持つ永続性[1]の4つの基本機能のイニシャルを並べた用語。その4つとは、Create（生成）、Read（読み取り）、Update（更新）、Delete（削除）である。ユーザインタフェースが備えるべき機能（情報の参照/検索/更新）を指す用語としても使われる。\n",
        ">\n",
        "> https://ja.wikipedia.org/wiki/CRUD"
      ]
    },
    {
      "cell_type": "markdown",
      "metadata": {
        "id": "byCPL4XmWt_A",
        "colab_type": "text"
      },
      "source": [
        "### Colab: SQLマジックの有効化"
      ]
    },
    {
      "cell_type": "markdown",
      "metadata": {
        "id": "E-kgZ4_VolLH",
        "colab_type": "text"
      },
      "source": [
        "ColaboratoryではJupyter Notebook用の拡張機能を利用することができます。ここではSQLiteに対してクエリを発行できるようにするため `ipython-sql` という拡張機能をインストールします。"
      ]
    },
    {
      "cell_type": "code",
      "metadata": {
        "id": "miFAHsiUUTiV",
        "colab_type": "code",
        "colab": {}
      },
      "source": [
        "! pip install ipython-sql"
      ],
      "execution_count": 0,
      "outputs": []
    },
    {
      "cell_type": "markdown",
      "metadata": {
        "id": "mSm54b1JVttb",
        "colab_type": "text"
      },
      "source": [
        "### SQLite: データベースの作成\n"
      ]
    },
    {
      "cell_type": "markdown",
      "metadata": {
        "id": "yOtyglDho3Ub",
        "colab_type": "text"
      },
      "source": [
        "インストールした拡張機能は `%load_ext` というコマンドで読み込むことができます。`ipython-sql` は SQL マジックと呼ばれる機能を提供しており、`%%sql` で始まるセルを SQL クエリとして取り扱うことができます。"
      ]
    },
    {
      "cell_type": "code",
      "metadata": {
        "id": "ZFt05csCVt5e",
        "colab_type": "code",
        "colab": {}
      },
      "source": [
        "# ipython-sqlの読み込み\n",
        "%load_ext sql\n",
        "\n",
        "# SQLite3への接続\n",
        "%sql sqlite:///tmp.sqlite3"
      ],
      "execution_count": 0,
      "outputs": []
    },
    {
      "cell_type": "markdown",
      "metadata": {
        "id": "_YM3qtkfWy5h",
        "colab_type": "text"
      },
      "source": [
        "### テーブルの作成"
      ]
    },
    {
      "cell_type": "markdown",
      "metadata": {
        "id": "6HMlF38rpOGe",
        "colab_type": "text"
      },
      "source": [
        "SQLite3ではCREATE TABLE文を実行することでテーブルを作成することができます。\n",
        "\n",
        "```sql\n",
        "    CREATE TABLE <テーブル名> (\n",
        "      -- カラム情報\n",
        "      <カラム名> <データ型>,\n",
        "      ...\n",
        "    )\n",
        "```"
      ]
    },
    {
      "cell_type": "code",
      "metadata": {
        "id": "GrSOqYV2SwgK",
        "colab_type": "code",
        "colab": {}
      },
      "source": [
        "%%sql\n",
        "create table messages (\n",
        "    id bigint,\n",
        "    message string\n",
        ")"
      ],
      "execution_count": 0,
      "outputs": []
    },
    {
      "cell_type": "code",
      "metadata": {
        "id": "WLJFvM3Cpw4-",
        "colab_type": "code",
        "colab": {}
      },
      "source": [
        "%%sql\n",
        "select count(1) from messages"
      ],
      "execution_count": 0,
      "outputs": []
    },
    {
      "cell_type": "markdown",
      "metadata": {
        "id": "gAgBiiqipvVv",
        "colab_type": "text"
      },
      "source": [
        "`CREATE TEMPORARY TABLE`文を利用すると一時的なテーブルを作成することができます。クライアントのセッションが切れると削除されるテーブルでバッチ処理などではテーブル作成時などに一時的な集計結果を格納したりするときによく利用する機能です。"
      ]
    },
    {
      "cell_type": "code",
      "metadata": {
        "id": "Tmoblx1jpfd1",
        "colab_type": "code",
        "colab": {}
      },
      "source": [
        "%%sql\n",
        "create temporary table tmp_messages (\n",
        "    id bigint,\n",
        "    message string\n",
        ")"
      ],
      "execution_count": 0,
      "outputs": []
    },
    {
      "cell_type": "markdown",
      "metadata": {
        "id": "-eBzxkMOqNRO",
        "colab_type": "text"
      },
      "source": [
        "一時テーブルも同様にクエリを実行することが可能です。"
      ]
    },
    {
      "cell_type": "code",
      "metadata": {
        "id": "u_6kmPV_T8P6",
        "colab_type": "code",
        "colab": {}
      },
      "source": [
        "%%sql\n",
        "select * from tmp_messages"
      ],
      "execution_count": 0,
      "outputs": []
    },
    {
      "cell_type": "markdown",
      "metadata": {
        "id": "0IOD5ZAyW3L5",
        "colab_type": "text"
      },
      "source": [
        "### レコードの追加\n",
        "\n",
        "テーブルを作成できたらテーブルにレコードを入れてみましょう。INSERT文を利用するとテーブルにデータを格納することができます。\n",
        "\n",
        "```sql\n",
        "    INSERT INTO\n",
        "        <テーブル名>\n",
        "    VALUES\n",
        "        (v1, v2, ...),\n",
        "        ...\n",
        "```"
      ]
    },
    {
      "cell_type": "code",
      "metadata": {
        "id": "Sgc2DHILVLIk",
        "colab_type": "code",
        "colab": {}
      },
      "source": [
        "%%sql\n",
        "insert into\n",
        "  messages\n",
        "values\n",
        "  (1, 'こんにちは'),\n",
        "  (2, '夜だけどこんにちは')"
      ],
      "execution_count": 0,
      "outputs": []
    },
    {
      "cell_type": "code",
      "metadata": {
        "id": "cjtlfoE2WlMC",
        "colab_type": "code",
        "colab": {}
      },
      "source": [
        "%%sql\n",
        "select\n",
        "  *\n",
        "from\n",
        "  messages"
      ],
      "execution_count": 0,
      "outputs": []
    },
    {
      "cell_type": "markdown",
      "metadata": {
        "id": "qgrA2vQiXDIZ",
        "colab_type": "text"
      },
      "source": [
        "### レコードの更新"
      ]
    },
    {
      "cell_type": "markdown",
      "metadata": {
        "id": "TMtdvKA0qp4V",
        "colab_type": "text"
      },
      "source": [
        "続けて、UPDATE文を利用することで検索条件にマッチするレコードを更新することができます。"
      ]
    },
    {
      "cell_type": "code",
      "metadata": {
        "id": "B6JOiDLsWnc6",
        "colab_type": "code",
        "colab": {}
      },
      "source": [
        "%%sql\n",
        "-- idが1のレコードのメッセージを更新する\n",
        "update\n",
        "  messages\n",
        "set\n",
        "  message = 'こんにちはこんにちは'\n",
        "where\n",
        "  id = 1"
      ],
      "execution_count": 0,
      "outputs": []
    },
    {
      "cell_type": "code",
      "metadata": {
        "id": "rcvVSwUrXCEI",
        "colab_type": "code",
        "colab": {}
      },
      "source": [
        "%%sql\n",
        "select\n",
        "  *\n",
        "from\n",
        "  messages"
      ],
      "execution_count": 0,
      "outputs": []
    },
    {
      "cell_type": "markdown",
      "metadata": {
        "id": "BGM-C9QlXPg3",
        "colab_type": "text"
      },
      "source": [
        "### レコードの削除\n",
        "\n",
        "主にコストの面でストレージには限りがある場合があるので不要なレコードは削除しましょう。DELETE文を利用すると検索条件にマッチするレコードを削除することができます。"
      ]
    },
    {
      "cell_type": "code",
      "metadata": {
        "id": "RU7HzGnsXLVO",
        "colab_type": "code",
        "colab": {}
      },
      "source": [
        "%%sql\n",
        "delete from\n",
        "  messages\n",
        "where\n",
        "  id = 1"
      ],
      "execution_count": 0,
      "outputs": []
    },
    {
      "cell_type": "code",
      "metadata": {
        "id": "_IZEO2pbXTRu",
        "colab_type": "code",
        "colab": {}
      },
      "source": [
        "%%sql\n",
        "select\n",
        "  *\n",
        "from\n",
        "  messages"
      ],
      "execution_count": 0,
      "outputs": []
    },
    {
      "cell_type": "markdown",
      "metadata": {
        "id": "lEDde5ZFrOd6",
        "colab_type": "text"
      },
      "source": [
        "検索条件を指定しない場合は全てのレコードが削除されます。"
      ]
    },
    {
      "cell_type": "code",
      "metadata": {
        "id": "w5MlXKD6XjX3",
        "colab_type": "code",
        "colab": {}
      },
      "source": [
        "%%sql\n",
        "delete from messages"
      ],
      "execution_count": 0,
      "outputs": []
    },
    {
      "cell_type": "markdown",
      "metadata": {
        "id": "_VUtO2jNrhKi",
        "colab_type": "text"
      },
      "source": [
        "MySQLなどのRDBMSにはTRUNCATE文という全レコードを削除するためのコマンドが用意されています。\n",
        "\n",
        "それぞれ以下のような特徴があります\n",
        "\n",
        "- DELETE文\n",
        "    - トランザクションでロールバックできる\n",
        "- TRUNCATE文\n",
        "    - テーブルを再構築するためロールバックできないが高速"
      ]
    },
    {
      "cell_type": "markdown",
      "metadata": {
        "id": "fA9pD_O_Z3At",
        "colab_type": "text"
      },
      "source": [
        "### テーブルの削除\n",
        "\n",
        "DROP TABLE文を利用することでテーブルを削除することができます。"
      ]
    },
    {
      "cell_type": "code",
      "metadata": {
        "id": "rP8y0kQRZcCG",
        "colab_type": "code",
        "colab": {}
      },
      "source": [
        "%%sql\n",
        "drop table messages"
      ],
      "execution_count": 0,
      "outputs": []
    },
    {
      "cell_type": "markdown",
      "metadata": {
        "id": "-2Gk9G9taHFQ",
        "colab_type": "text"
      },
      "source": [
        "## 集計"
      ]
    },
    {
      "cell_type": "markdown",
      "metadata": {
        "id": "fvrXBeVeXkvm",
        "colab_type": "text"
      },
      "source": [
        "### COUNT関数\n",
        "\n",
        "プロジェクトの選択を求められた場合は最初に作成したプロジェクト名を選択するか停止して再実行してみてください。"
      ]
    },
    {
      "cell_type": "code",
      "metadata": {
        "id": "7_nYufFkXrbW",
        "colab_type": "code",
        "colab": {}
      },
      "source": [
        "! bq mk --project_id {PROJECT_ID} {PROJECT_ID}:tmp"
      ],
      "execution_count": 0,
      "outputs": []
    },
    {
      "cell_type": "markdown",
      "metadata": {
        "id": "hr8hMXYlIKkc",
        "colab_type": "text"
      },
      "source": [
        "多くのクエリエンジンにはテーブルを作成する際に SELECT 文の実行結果をそのまま利用できる `CREATE TABLE AS`（CTAS） と呼ばれる構文が用意されています。\n",
        "\n",
        "一時テーブルと組み合わせて集計に時間がかかるようなクエリの実行結果を保存しておいたり、異なるデータベースサーバーに入っているテーブルデータをコピーするときなどに便利な機能です。\n",
        "\n",
        "以下ではBigQueryの公開データセットからデータを取得し `tmp` スキーマの `confirmed_casess` というテーブルにデータを格納します。"
      ]
    },
    {
      "cell_type": "code",
      "metadata": {
        "id": "Vq5f-fY2XV-H",
        "colab_type": "code",
        "colab": {}
      },
      "source": [
        "%%bigquery --project {PROJECT_ID}\n",
        "create table tmp.confirmed_cases as\n",
        "select\n",
        "  *\n",
        "from\n",
        "  bigquery-public-data.covid19_jhu_csse.confirmed_cases"
      ],
      "execution_count": 0,
      "outputs": []
    },
    {
      "cell_type": "markdown",
      "metadata": {
        "id": "HrpYZk1Fs8Eo",
        "colab_type": "text"
      },
      "source": [
        "COUNT関数を利用するとレコード数を数えることができます。"
      ]
    },
    {
      "cell_type": "code",
      "metadata": {
        "id": "JJVp3NELY1Ik",
        "colab_type": "code",
        "colab": {}
      },
      "source": [
        "%%bigquery --project {PROJECT_ID}\n",
        "select\n",
        "  count(1) as num\n",
        "from\n",
        "  bigquery-public-data.covid19_jhu_csse.confirmed_cases"
      ],
      "execution_count": 0,
      "outputs": []
    },
    {
      "cell_type": "markdown",
      "metadata": {
        "id": "chJ_zPiltJel",
        "colab_type": "text"
      },
      "source": [
        "先ほど作成したテーブルのレコード数を数えてみましょう。"
      ]
    },
    {
      "cell_type": "code",
      "metadata": {
        "id": "CdDBpn2XXejB",
        "colab_type": "code",
        "colab": {}
      },
      "source": [
        "%%bigquery --project {PROJECT_ID}\n",
        "select\n",
        "  count(1) as num\n",
        "from\n",
        "  tmp.confirmed_cases"
      ],
      "execution_count": 0,
      "outputs": []
    },
    {
      "cell_type": "markdown",
      "metadata": {
        "id": "sYnm6RoyaFp-",
        "colab_type": "text"
      },
      "source": [
        "### Pandasによるデータ整形（ピボット操作）"
      ]
    },
    {
      "cell_type": "markdown",
      "metadata": {
        "id": "pc9KpWeHtQYY",
        "colab_type": "text"
      },
      "source": [
        "#### BigQuery => Pandas\n",
        "\n",
        "公開データセットには国ごとに感染者数が各カラムに入っていますが、一つ一つカラムを指定するのは大変なので\n",
        "\n",
        "↓これを\n",
        "\n",
        "```\n",
        "|国名|日付1|日付2|...|\n",
        "|A  |123|456|...|\n",
        "|B  |789|999|...|\n",
        "```\n",
        "\n",
        "↓こうしたい\n",
        "\n",
        "```\n",
        "|日付|国A|国B|\n",
        "|日付1|123|789|\n",
        "|日付2|456|999|\n",
        "```\n",
        "\n",
        "このような操作を一般的にテーブルのピボットと呼びますが、BigQueryにはピボットの機能は入っておりません。\n",
        "\n",
        "集約操作を駆使することで表現することは可能ですがSQLで全てを記述するよりプログラミング言語を使った方が簡潔です。ここでは Pandas という Python のデータ操作用フレームワークを利用してテーブルを回転させてみましょう。\n",
        "\n",
        "\"pandas - Python Data Analysis Library\"\n",
        "https://pandas.pydata.org/"
      ]
    },
    {
      "cell_type": "markdown",
      "metadata": {
        "id": "cpCrOu3HuwaB",
        "colab_type": "text"
      },
      "source": [
        "BigQueryマジックでは `%%bigquery` の引数に変数名を指定すると、クエリの実行結果を Pandas の DataFrame というデータ構造に変換して格納してくれます。"
      ]
    },
    {
      "cell_type": "code",
      "metadata": {
        "id": "J0DR_aWYYygj",
        "colab_type": "code",
        "colab": {}
      },
      "source": [
        "%%bigquery --project {PROJECT_ID} df_confirmed_cases\n",
        "-- クエリの実行結果をPandasのデータフレームに入れる\n",
        "select\n",
        "  *\n",
        "from\n",
        "  tmp.confirmed_cases\n",
        "where\n",
        "  -- 州を持たない国のレコードを抽出してみる\n",
        "  province_state is null"
      ],
      "execution_count": 0,
      "outputs": []
    },
    {
      "cell_type": "markdown",
      "metadata": {
        "id": "WM8jdze2u7T0",
        "colab_type": "text"
      },
      "source": [
        "headメソッドを使って上位のレコードを表示してみます。"
      ]
    },
    {
      "cell_type": "code",
      "metadata": {
        "id": "kE0YAc9Caidj",
        "colab_type": "code",
        "colab": {}
      },
      "source": [
        "df_confirmed_cases.head()"
      ],
      "execution_count": 0,
      "outputs": []
    },
    {
      "cell_type": "markdown",
      "metadata": {
        "id": "jx4YaFiMvZP6",
        "colab_type": "text"
      },
      "source": [
        "SELECT文のWHERE句のように条件指定することも可能です。独特の記法ですが配列の添字アクセスのところで条件指定をすると条件に一致するレコードを抽出することができます。\n",
        "\n",
        "```py\n",
        "    df[条件式]\n",
        "```"
      ]
    },
    {
      "cell_type": "code",
      "metadata": {
        "id": "VPoR7zr0aj7y",
        "colab_type": "code",
        "colab": {}
      },
      "source": [
        "df_confirmed_cases[df_confirmed_cases.country_region == 'Japan']"
      ],
      "execution_count": 0,
      "outputs": []
    },
    {
      "cell_type": "markdown",
      "metadata": {
        "id": "AyNzYAqxvu8T",
        "colab_type": "text"
      },
      "source": [
        "ilocという機能を使うと行や列の絞り込みができます。SQLよりも列方向の操作がしやすくなるのが利点です。\n",
        "\n",
        "以下では日本の感染者数を抽出しています。"
      ]
    },
    {
      "cell_type": "code",
      "metadata": {
        "id": "-M4B3JxranzP",
        "colab_type": "code",
        "colab": {}
      },
      "source": [
        "df_confirmed_cases[df_confirmed_cases.country_region == 'Japan'].iloc[:, 5:]"
      ],
      "execution_count": 0,
      "outputs": []
    },
    {
      "cell_type": "markdown",
      "metadata": {
        "id": "GiCR2YhrwHBN",
        "colab_type": "text"
      },
      "source": [
        "Pandas DataFrameにはtransposeという行列の行と列を入れ替える転置機能が用意されており T 属性で呼び出すことができます。ここでは日本の感染者数を縦持ちのデータに変換しています。"
      ]
    },
    {
      "cell_type": "code",
      "metadata": {
        "id": "YCBeYI_jay9F",
        "colab_type": "code",
        "colab": {}
      },
      "source": [
        "df_confirmed_cases[df_confirmed_cases.country_region == 'Japan'].iloc[:, 5:].T"
      ],
      "execution_count": 0,
      "outputs": []
    },
    {
      "cell_type": "markdown",
      "metadata": {
        "id": "WrzMiVWnwfVI",
        "colab_type": "text"
      },
      "source": [
        "一般的にクエリエンジンでのデータのスキャンは縦方向に進むので横向きよりも縦向きのデータの方が取り扱いやすいことが多いです。特にR言語というデータ分析向けのプログラミング言語の界隈では分析に使いやすいデータのことを `整然データ（tidy data）` と読んでおりデータを扱いやすくするための方法について議論されています。\n",
        "\n",
        "\"【翻訳】整然データ｜Colorless Green Ideas\"\n",
        "http://id.fnshr.info/2017/01/09/trans-tidy-data/\n",
        "\n",
        "縦向きにしたことでPandasでのデータの可視化ができるようになります。"
      ]
    },
    {
      "cell_type": "code",
      "metadata": {
        "id": "mPbYAI8ewas2",
        "colab_type": "code",
        "colab": {}
      },
      "source": [
        "df_confirmed_cases[df_confirmed_cases.country_region == 'Japan'].iloc[:, 5:].T.plot.line()"
      ],
      "execution_count": 0,
      "outputs": []
    },
    {
      "cell_type": "markdown",
      "metadata": {
        "id": "C-q35DIwxn9_",
        "colab_type": "text"
      },
      "source": [
        "#### Pandas => BigQuery\n",
        "\n",
        "Japan、Albania、Panamaの3カ国について同様に縦持ちのテーブルを作ってみましょう。"
      ]
    },
    {
      "cell_type": "code",
      "metadata": {
        "id": "sO5L5aawa2gb",
        "colab_type": "code",
        "colab": {}
      },
      "source": [
        "import pandas as pd\n",
        "\n",
        "target_regions = ['Japan', 'Albania', 'Panama']\n",
        "df_selected = df_confirmed_cases[df_confirmed_cases.country_region.isin(target_regions)]\n",
        "df_confirmed_cases_t = pd.DataFrame(df_selected.iloc[:, 5:].T.values, columns=target_regions)\n",
        "df_confirmed_cases_t"
      ],
      "execution_count": 0,
      "outputs": []
    },
    {
      "cell_type": "markdown",
      "metadata": {
        "id": "vr621KqOyDAx",
        "colab_type": "text"
      },
      "source": [
        "Pandas DataFrameの `to_gbq` メソッドを使うことでデータフレームをBigQueryのテーブルに格納することができます。"
      ]
    },
    {
      "cell_type": "code",
      "metadata": {
        "id": "6WjSbY7_bmvv",
        "colab_type": "code",
        "colab": {}
      },
      "source": [
        "df_confirmed_cases_t.to_gbq('tmp.confirmed_cases_t', PROJECT_ID, if_exists='replace')"
      ],
      "execution_count": 0,
      "outputs": []
    },
    {
      "cell_type": "markdown",
      "metadata": {
        "id": "XyCw3U-Cyw7Y",
        "colab_type": "text"
      },
      "source": [
        "Pandasで整形したデータをBigQueryで取り扱えるようになりました。"
      ]
    },
    {
      "cell_type": "code",
      "metadata": {
        "id": "ZhzNQw3rcJf8",
        "colab_type": "code",
        "colab": {}
      },
      "source": [
        "%%bigquery --project {PROJECT_ID}\n",
        "select\n",
        "  *\n",
        "from\n",
        "  tmp.confirmed_cases_t"
      ],
      "execution_count": 0,
      "outputs": []
    },
    {
      "cell_type": "markdown",
      "metadata": {
        "id": "sopQJUa6y4Z9",
        "colab_type": "text"
      },
      "source": [
        "作成したテーブルを再度BigQueryに持っていき国ごとの推移をみてみましょう"
      ]
    },
    {
      "cell_type": "code",
      "metadata": {
        "id": "3FMPRbUccXLA",
        "colab_type": "code",
        "colab": {}
      },
      "source": [
        "%%bigquery --project {PROJECT_ID} df_confirmed_cases_t\n",
        "select\n",
        "  *\n",
        "from\n",
        "  tmp.confirmed_cases_t"
      ],
      "execution_count": 0,
      "outputs": []
    },
    {
      "cell_type": "code",
      "metadata": {
        "id": "rAjNQzLedJUG",
        "colab_type": "code",
        "colab": {}
      },
      "source": [
        "df_confirmed_cases_t.plot.line()"
      ],
      "execution_count": 0,
      "outputs": []
    },
    {
      "cell_type": "markdown",
      "metadata": {
        "id": "BLhhq7CZzBqx",
        "colab_type": "text"
      },
      "source": [
        "seabornというライブラリを利用するとグラフの見た目を整えることができます。"
      ]
    },
    {
      "cell_type": "code",
      "metadata": {
        "id": "f8NBeQdEdNov",
        "colab_type": "code",
        "colab": {}
      },
      "source": [
        "! pip install seaborn"
      ],
      "execution_count": 0,
      "outputs": []
    },
    {
      "cell_type": "code",
      "metadata": {
        "id": "sCgZ1xvodV7_",
        "colab_type": "code",
        "colab": {}
      },
      "source": [
        "import seaborn as sns\n",
        "sns.set()"
      ],
      "execution_count": 0,
      "outputs": []
    },
    {
      "cell_type": "code",
      "metadata": {
        "id": "qiV6LX4pdcki",
        "colab_type": "code",
        "colab": {}
      },
      "source": [
        "df_confirmed_cases_t.plot.line()"
      ],
      "execution_count": 0,
      "outputs": []
    },
    {
      "cell_type": "markdown",
      "metadata": {
        "id": "H4e4DU4uzMKO",
        "colab_type": "text"
      },
      "source": [
        "指数的に増加してるグラフの増加具合を比較するときは縦軸を対数で取ると見やすくなります。元のグラフと違って収束していく形になるので取り扱いには注意が必要です。"
      ]
    },
    {
      "cell_type": "code",
      "metadata": {
        "id": "6BSUlYGgdddv",
        "colab_type": "code",
        "colab": {}
      },
      "source": [
        "%%bigquery --project {PROJECT_ID} df_confirmed_cases_t_log\n",
        "select\n",
        "  log(Japan+1, 10) as Japan_log10,\n",
        "  log(Albania+1, 10) as  Albania_log10,\n",
        "  log(Panama+1, 10) as Panama_log10\n",
        "from\n",
        "  tmp.confirmed_cases_t"
      ],
      "execution_count": 0,
      "outputs": []
    },
    {
      "cell_type": "code",
      "metadata": {
        "id": "sUE3D9BAfgqd",
        "colab_type": "code",
        "colab": {}
      },
      "source": [
        "df_confirmed_cases_t_log.plot.line()"
      ],
      "execution_count": 0,
      "outputs": []
    },
    {
      "cell_type": "markdown",
      "metadata": {
        "id": "UVno4Pnkzyw-",
        "colab_type": "text"
      },
      "source": [
        "余裕があれば以下に取り組んでみてください。\n",
        "\n",
        "- 対数グラフの開始日を揃えてみる\n",
        "- 他の国についても調べてみる"
      ]
    },
    {
      "cell_type": "markdown",
      "metadata": {
        "id": "5s_jxWJtiEUg",
        "colab_type": "text"
      },
      "source": [
        "### 集約操作（GROUP BY）\n",
        "\n",
        "データセットを見ていると国によっては複数のレコードを持っていることが分かります。GROUP BY 句を利用すると指定したカラムの値でグループ分けした結果に対して COUNT 関数などを利用した集計を行うことができます。\n",
        "\n",
        "```sql\n",
        "    SELECT\n",
        "      <カラム>\n",
        "    FROM\n",
        "      <テーブル>\n",
        "    WHERE\n",
        "      <条件>\n",
        "    \n",
        "    -- NEW!!\n",
        "    GROUP BY\n",
        "      <集約するカラム> -- 複数指定可能\n",
        "    HAVING\n",
        "      集約後の結果に対する条件指定\n",
        "```\n",
        "\n",
        "以下は州がNULLではない国について country_region ごとにレコード数を集計したものです"
      ]
    },
    {
      "cell_type": "code",
      "metadata": {
        "id": "uL6I4NBlfqY-",
        "colab_type": "code",
        "colab": {}
      },
      "source": [
        "%%bigquery --project {PROJECT_ID}\n",
        "select\n",
        "  country_region,\n",
        "  count(1) as records\n",
        "from\n",
        "  tmp.confirmed_cases\n",
        "where\n",
        "  province_state is not null\n",
        "\n",
        "group by\n",
        "  country_region\n",
        "\n",
        "having\n",
        "  records > 1"
      ],
      "execution_count": 0,
      "outputs": []
    },
    {
      "cell_type": "markdown",
      "metadata": {
        "id": "j9sinqFxieZQ",
        "colab_type": "text"
      },
      "source": [
        "> 連邦国家であるカナダを構成する10の州（プロヴィンス、province）と3つの準州（テリトリー、territory）\n",
        ">\n",
        "> \"カナダの州 - Wikipedia\" https://ja.wikipedia.org/wiki/%E3%82%AB%E3%83%8A%E3%83%80%E3%81%AE%E5%B7%9E\n",
        "\n",
        "15個あるのはダイヤモンドプリンセス号などが含まれるようでした。"
      ]
    },
    {
      "cell_type": "code",
      "metadata": {
        "id": "ha8Ml-t1hdPa",
        "colab_type": "code",
        "colab": {}
      },
      "source": [
        "%%bigquery --project {PROJECT_ID}\n",
        "select\n",
        "  country_region,\n",
        "  count(1) as provinces\n",
        "from\n",
        "  tmp.confirmed_cases\n",
        "where\n",
        "  country_region = 'Canada'\n",
        "\n",
        "group by\n",
        "  country_region"
      ],
      "execution_count": 0,
      "outputs": []
    },
    {
      "cell_type": "markdown",
      "metadata": {
        "id": "R1E8aXkn3g1z",
        "colab_type": "text"
      },
      "source": [
        "#### BigQuery => Pandas\n",
        "\n",
        "複数の州を持つ国の感染者数を日別にまとめてみましょう。BigQueryの特徴的な機能としてSELECT文の全カラム指定から除外するカラムを指定することができデータの抽出が容易になります。\n",
        "\n",
        "以下では地理データに関するカラムを除外しています。"
      ]
    },
    {
      "cell_type": "code",
      "metadata": {
        "id": "L2HENVC4hwI6",
        "colab_type": "code",
        "colab": {}
      },
      "source": [
        "%%bigquery --project {PROJECT_ID} df_provinces\n",
        "select\n",
        "  * except (latitude, longitude, location_geom)\n",
        "from\n",
        "  tmp.confirmed_cases\n",
        "where\n",
        "  province_state is not null"
      ],
      "execution_count": 0,
      "outputs": []
    },
    {
      "cell_type": "markdown",
      "metadata": {
        "id": "moJvKIFF14S6",
        "colab_type": "text"
      },
      "source": [
        "Pandasを使って国・州・日付ごとに感染者数を縦持ちにしたテーブルを作成します。\n",
        "\n",
        "\"pandasでstack, unstack, pivotを使ってデータを整形 | note.nkmk.me\"\n",
        "https://note.nkmk.me/python-pandas-stack-unstack-pivot/"
      ]
    },
    {
      "cell_type": "code",
      "metadata": {
        "id": "fSUQ2quqi3wj",
        "colab_type": "code",
        "colab": {}
      },
      "source": [
        "import pandas as pd\n",
        "\n",
        "df_pivot_stack = pd.pivot_table(df_provinces, index=['country_region', 'province_state']).stack().reset_index()\n",
        "df_pivot_stack.columns = ['country_region', 'province_state', 'date', 'confirmed_cases']\n",
        "df_pivot_stack"
      ],
      "execution_count": 0,
      "outputs": []
    },
    {
      "cell_type": "markdown",
      "metadata": {
        "id": "YQKMAL8Q2IQI",
        "colab_type": "text"
      },
      "source": [
        "そのままだと日付が文字列としてソートされてしまいグラフにするときに影響が出てしまいます\n",
        "\n",
        "ここでは大小比較を正しく行うためにPythonのdatetime型に変換しています"
      ]
    },
    {
      "cell_type": "code",
      "metadata": {
        "id": "7sfvW9iGxPZg",
        "colab_type": "code",
        "colab": {}
      },
      "source": [
        "import datetime\n",
        "datetime.datetime.strptime('_1_22_20', '_%m_%d_%y')\n",
        "\n",
        "# 日付順で並べ替えるため日付文字列をdatetime型に変換\n",
        "df_pivot_stack.date = df_pivot_stack.date.map(lambda d: datetime.datetime.strptime(d, '_%m_%d_%y'))\n",
        "df_pivot_stack"
      ],
      "execution_count": 0,
      "outputs": []
    },
    {
      "cell_type": "markdown",
      "metadata": {
        "id": "aNSrVNw82YZU",
        "colab_type": "text"
      },
      "source": [
        "Pandas => BigQuery"
      ]
    },
    {
      "cell_type": "code",
      "metadata": {
        "id": "InAtkp3Dj_vF",
        "colab_type": "code",
        "colab": {}
      },
      "source": [
        "df_pivot_stack.to_gbq('tmp.pivot_stack', PROJECT_ID, if_exists='replace')"
      ],
      "execution_count": 0,
      "outputs": []
    },
    {
      "cell_type": "markdown",
      "metadata": {
        "id": "toY7BsNW2fko",
        "colab_type": "text"
      },
      "source": [
        "複数州を持つ国についても日別の推移を縦持ちで取れるようになりました。"
      ]
    },
    {
      "cell_type": "code",
      "metadata": {
        "id": "eHpb39ianmrC",
        "colab_type": "code",
        "colab": {}
      },
      "source": [
        "%%bigquery --project {PROJECT_ID}\n",
        "select\n",
        "  *\n",
        "from\n",
        "  tmp.pivot_stack"
      ],
      "execution_count": 0,
      "outputs": []
    },
    {
      "cell_type": "markdown",
      "metadata": {
        "id": "GrsD1qr82oVt",
        "colab_type": "text"
      },
      "source": [
        "ここから GROUP BY 句を使って国・日別でconfirmed_casesの和を取ってみます。\n",
        "\n",
        "総和の集計には SUM 関数を利用しています。"
      ]
    },
    {
      "cell_type": "code",
      "metadata": {
        "id": "CVZNH_IhqXoN",
        "colab_type": "code",
        "colab": {}
      },
      "source": [
        "%%bigquery --project {PROJECT_ID}\n",
        "select\n",
        "  country_region,\n",
        "  date,\n",
        "  sum(confirmed_cases) as confirmed_cases_sum\n",
        "from\n",
        "  tmp.pivot_stack\n",
        "group by\n",
        "  country_region,\n",
        "  date\n",
        "\n",
        "order by\n",
        "  country_region,\n",
        "  date"
      ],
      "execution_count": 0,
      "outputs": []
    },
    {
      "cell_type": "markdown",
      "metadata": {
        "id": "eXVCMp8N287U",
        "colab_type": "text"
      },
      "source": [
        "3カ国でやったように線グラフにしてみましょう。例によって縦軸を対数で取ってあるのに注意してください。"
      ]
    },
    {
      "cell_type": "code",
      "metadata": {
        "id": "kKz9K-rmqf_i",
        "colab_type": "code",
        "colab": {}
      },
      "source": [
        "%%bigquery --project {PROJECT_ID} df_confirmed_cases_sum\n",
        "select\n",
        "  country_region,\n",
        "  date,\n",
        "  log(sum(confirmed_cases)+1, 10) as confirmed_cases_sum_log10\n",
        "from\n",
        "  tmp.pivot_stack\n",
        "group by\n",
        "  country_region,\n",
        "  date\n",
        "order by\n",
        "  country_region,\n",
        "  date"
      ],
      "execution_count": 0,
      "outputs": []
    },
    {
      "cell_type": "code",
      "metadata": {
        "id": "T-BHDBiLrlUR",
        "colab_type": "code",
        "colab": {}
      },
      "source": [
        "pd.pivot_table(df_confirmed_cases_sum, index=['date'], columns=['country_region']).plot.line(y='confirmed_cases_sum_log10')"
      ],
      "execution_count": 0,
      "outputs": []
    },
    {
      "cell_type": "markdown",
      "metadata": {
        "id": "_pY0p9OF3JR_",
        "colab_type": "text"
      },
      "source": [
        "オーストラリアやカナダのconfirmed_casesの推移が見えるようになったでしょうか。"
      ]
    },
    {
      "cell_type": "markdown",
      "metadata": {
        "id": "YUCEfHed5k2h",
        "colab_type": "text"
      },
      "source": [
        "## 集合操作\n",
        "\n",
        "ここから少し複雑なSELECT文を扱っていきます。"
      ]
    },
    {
      "cell_type": "markdown",
      "metadata": {
        "id": "_PfTdgmk6aR5",
        "colab_type": "text"
      },
      "source": [
        "### サブクエリ\n",
        "\n",
        "サブクエリはクエリの中に記述されたSELECT文のことです。データを集合的に操作するときに重宝します。"
      ]
    },
    {
      "cell_type": "code",
      "metadata": {
        "id": "4O8-5Mhi58lL",
        "colab_type": "code",
        "colab": {}
      },
      "source": [
        "%%bigquery --project {PROJECT_ID}\n",
        "select\n",
        "  *\n",
        "from\n",
        "  (select\n",
        "    *\n",
        "  from\n",
        "    bigquery-public-data.covid19_jhu_csse.confirmed_cases\n",
        "  )\n",
        "where\n",
        "  -- サブクエリの結果に対して条件指定\n",
        "  country_region = 'Japan'"
      ],
      "execution_count": 0,
      "outputs": []
    },
    {
      "cell_type": "markdown",
      "metadata": {
        "id": "7ynaJ8rq6-lT",
        "colab_type": "text"
      },
      "source": [
        "### WITH句\n",
        "WITH 句を利用するとサブクエリに名前を付けて外側に持っていくことでネストを下げることができます。WITH 句で定義したサブクエリは通常のテーブルと同様にクエリすることができます。\n",
        "\n",
        "RDBMSの世界ですとMySQLは長らくサポートしていませんでしたがバージョン8.0から利用できるようになっています。"
      ]
    },
    {
      "cell_type": "code",
      "metadata": {
        "id": "YB3MpN3v6-AV",
        "colab_type": "code",
        "colab": {}
      },
      "source": [
        "%%bigquery --project {PROJECT_ID}\n",
        "with\n",
        "  japan_confirmed_cases as\n",
        "  (select\n",
        "    *\n",
        "  from\n",
        "    bigquery-public-data.covid19_jhu_csse.confirmed_cases\n",
        "  where\n",
        "    country_region = 'Japan'\n",
        "  )\n",
        "\n",
        "select\n",
        "  *\n",
        "from\n",
        "  japan_confirmed_cases"
      ],
      "execution_count": 0,
      "outputs": []
    },
    {
      "cell_type": "markdown",
      "metadata": {
        "id": "wq7XQMTE776v",
        "colab_type": "text"
      },
      "source": [
        "### UNION\n",
        "\n",
        "UNION 句を利用するとクエリの結果を縦方向に結合することができます。\n",
        "\n",
        "ここでは confirmed_cases / recovered_cases / deaths の3テーブルの結果を UNION 句で結合し、それぞれの推移をグラフで見てみましょう。"
      ]
    },
    {
      "cell_type": "code",
      "metadata": {
        "id": "MJzIMDWR7Udd",
        "colab_type": "code",
        "colab": {}
      },
      "source": [
        "%%bigquery --project {PROJECT_ID}\n",
        "select\n",
        "  *\n",
        "from\n",
        "  bigquery-public-data.covid19_jhu_csse.INFORMATION_SCHEMA.TABLES"
      ],
      "execution_count": 0,
      "outputs": []
    },
    {
      "cell_type": "markdown",
      "metadata": {
        "id": "V6MSZiFB4-A_",
        "colab_type": "text"
      },
      "source": [
        "label というカラムに元テーブルの名前を格納することで区別できるようにしています。UNION だけだとそれぞれのセットで重複するものが排除されますがその分パフォーマンスが落ちてしまいます。UNION ALL と指定すると重複チェックを行わずに結果を結合することができます。"
      ]
    },
    {
      "cell_type": "code",
      "metadata": {
        "id": "gQfRmfQm54o9",
        "colab_type": "code",
        "colab": {}
      },
      "source": [
        "%%bigquery --project {PROJECT_ID} df_jp\n",
        "with\n",
        "  confirmed_cases as\n",
        "  (select\n",
        "    'confirmed' as label,\n",
        "    * except (latitude, longitude, location_geom)\n",
        "  from\n",
        "    bigquery-public-data.covid19_jhu_csse.confirmed_cases\n",
        "  where\n",
        "    country_region = 'Japan'\n",
        "  ),\n",
        "  \n",
        "  recovered_cases as\n",
        "  (select\n",
        "    'recovered' as label,\n",
        "    * except (latitude, longitude, location_geom)\n",
        "  from\n",
        "    bigquery-public-data.covid19_jhu_csse.recovered_cases\n",
        "  where\n",
        "    country_region = 'Japan'\n",
        "  ),\n",
        "  \n",
        "  deaths as\n",
        "  (select\n",
        "    'death' as label,\n",
        "    * except (latitude, longitude, location_geom)\n",
        "  from\n",
        "    bigquery-public-data.covid19_jhu_csse.deaths\n",
        "  where\n",
        "    country_region = 'Japan'\n",
        "  )\n",
        "\n",
        "select\n",
        "  *\n",
        "from\n",
        "  confirmed_cases\n",
        "\n",
        "union all\n",
        "select\n",
        "  *\n",
        "from\n",
        "  recovered_cases\n",
        "\n",
        "union all\n",
        "select\n",
        "  *\n",
        "from\n",
        "  deaths"
      ],
      "execution_count": 0,
      "outputs": []
    },
    {
      "cell_type": "code",
      "metadata": {
        "id": "pkfEZ4XH7Xcj",
        "colab_type": "code",
        "colab": {}
      },
      "source": [
        "df_jp.head()"
      ],
      "execution_count": 0,
      "outputs": []
    },
    {
      "cell_type": "code",
      "metadata": {
        "id": "FTn-yx098joj",
        "colab_type": "code",
        "colab": {}
      },
      "source": [
        "df_jp_t = df_jp.pivot_table(index='label').T\n",
        "df_jp_t"
      ],
      "execution_count": 0,
      "outputs": []
    },
    {
      "cell_type": "code",
      "metadata": {
        "id": "8Ajz0HMM8mQr",
        "colab_type": "code",
        "colab": {}
      },
      "source": [
        "df_jp_t.index = df_jp_t.index.map(lambda d: datetime.datetime.strptime(d, '_%m_%d_%y'))\n",
        "df_jp_t.plot.line()"
      ],
      "execution_count": 0,
      "outputs": []
    },
    {
      "cell_type": "markdown",
      "metadata": {
        "id": "0tzg64sMBRVs",
        "colab_type": "text"
      },
      "source": [
        "### JOIN"
      ]
    },
    {
      "cell_type": "markdown",
      "metadata": {
        "id": "lVTpR-5P5qfw",
        "colab_type": "text"
      },
      "source": [
        "JOINを利用することで複数のテーブルまたはサブクエリを特定の条件で横方向に結合することができます。\n",
        "\n",
        "結合方式には以下の3種類があり、それぞれ役割が異なります。\n",
        "\n",
        "- 内部結合（INNER JOIN）\n",
        "  - 一致するもの\n",
        "- 外部結合（OUTER JOIN）\n",
        "  - 一致しないときはNULL\n",
        "- クロス結合（CROSS JOIN）\n",
        "  - 直積\n",
        "  - 配列データをバラしたりするときに便利\n",
        "\n",
        "```sql\n",
        "    SELECT\n",
        "      <式>\n",
        "    FROM\n",
        "      <テーブル>\n",
        "    \n",
        "    -- NEW!!\n",
        "    JOIN\n",
        "      <結合するテーブル>\n",
        "    ON\n",
        "      <結合条件>\n",
        "```"
      ]
    },
    {
      "cell_type": "markdown",
      "metadata": {
        "id": "tJdd_8UQ62bp",
        "colab_type": "text"
      },
      "source": [
        "ここでは SQLite を使って JOIN の使い方を学んでみます。"
      ]
    },
    {
      "cell_type": "code",
      "metadata": {
        "id": "eFWqSdAV9MYR",
        "colab_type": "code",
        "colab": {}
      },
      "source": [
        "%%sql\n",
        "-- ユーザー情報\n",
        "create table users (\n",
        "    id bigint,\n",
        "    user_name string\n",
        ");\n",
        "\n",
        "-- ステージ情報\n",
        "create table stages (\n",
        "    id bigint,\n",
        "    stage_name string\n",
        ");\n",
        "\n",
        "-- プレイログ\n",
        "create table plays (\n",
        "    id bigint,\n",
        "    user_id bigint,\n",
        "    stage_id bigint\n",
        ")"
      ],
      "execution_count": 0,
      "outputs": []
    },
    {
      "cell_type": "markdown",
      "metadata": {
        "id": "84aSojee7DCz",
        "colab_type": "text"
      },
      "source": [
        "レコードの追加"
      ]
    },
    {
      "cell_type": "code",
      "metadata": {
        "id": "ovfPVZDoA2ZY",
        "colab_type": "code",
        "colab": {}
      },
      "source": [
        "%%sql\n",
        "insert into\n",
        "  users\n",
        "values\n",
        "  (1, 'Alice'),\n",
        "  (2, 'Bob')\n",
        ";\n",
        "\n",
        "insert into\n",
        "  stages\n",
        "values\n",
        "  (1, 'Easy Stage'),\n",
        "  (2, 'Normal Stage')\n",
        ";"
      ],
      "execution_count": 0,
      "outputs": []
    },
    {
      "cell_type": "markdown",
      "metadata": {
        "id": "tM8uU_x57Fcw",
        "colab_type": "text"
      },
      "source": [
        "ログデータの追加"
      ]
    },
    {
      "cell_type": "code",
      "metadata": {
        "id": "vsQUwS9dBqHN",
        "colab_type": "code",
        "colab": {}
      },
      "source": [
        "%%sql\n",
        "insert into\n",
        "  plays\n",
        "values\n",
        "  (1, 1, 1),\n",
        "  (2, 1, 2),\n",
        "  (3, 2, 1),\n",
        "  (4, 1, 1)\n",
        ";"
      ],
      "execution_count": 0,
      "outputs": []
    },
    {
      "cell_type": "markdown",
      "metadata": {
        "id": "fYr6D3X47JH0",
        "colab_type": "text"
      },
      "source": [
        "そのままだと誰がどのステージをプレイしたのか分からないのでユーザー名とステージ名をJOINしてみます。"
      ]
    },
    {
      "cell_type": "code",
      "metadata": {
        "id": "T7Gx4IiBBwCU",
        "colab_type": "code",
        "colab": {}
      },
      "source": [
        "%%sql\n",
        "select\n",
        "  *\n",
        "from\n",
        "  plays as p"
      ],
      "execution_count": 0,
      "outputs": []
    },
    {
      "cell_type": "code",
      "metadata": {
        "id": "qHsbHRnNB76P",
        "colab_type": "code",
        "colab": {}
      },
      "source": [
        "%%sql\n",
        "select\n",
        "  p.id,\n",
        "  u.user_name,\n",
        "  s.stage_name\n",
        "from\n",
        "  plays as p\n",
        "\n",
        "join\n",
        "  users as u\n",
        "on p.user_id = u.id\n",
        "\n",
        "join\n",
        "  stages as s\n",
        "on p.stage_id = s.id"
      ],
      "execution_count": 0,
      "outputs": []
    },
    {
      "cell_type": "markdown",
      "metadata": {
        "id": "zmUu04YEDGnx",
        "colab_type": "text"
      },
      "source": [
        "### CROSS JOIN\n",
        "\n",
        "CROSS JOINはテーブルをバラすときに便利です。と言っても具体例をみないと分かりづらいのでSQLiteのJSON型を使ってCROSS JOINの使いどころを確認してみましょう。"
      ]
    },
    {
      "cell_type": "code",
      "metadata": {
        "id": "ZxqPdIedCCWM",
        "colab_type": "code",
        "colab": {}
      },
      "source": [
        "%%sql\n",
        "-- JSON型を持ったテーブルを作成\n",
        "create table json_messages (\n",
        "    id bigint,\n",
        "    msg json\n",
        ")"
      ],
      "execution_count": 0,
      "outputs": []
    },
    {
      "cell_type": "markdown",
      "metadata": {
        "id": "-U02AkXQ7zR4",
        "colab_type": "text"
      },
      "source": [
        "JSON型のカラムには文字列としてINSERTすることができます"
      ]
    },
    {
      "cell_type": "code",
      "metadata": {
        "id": "cRmcLpJjDNVw",
        "colab_type": "code",
        "colab": {}
      },
      "source": [
        "%%sql\n",
        "insert into\n",
        "  json_messages\n",
        "values\n",
        "  (1, '{\"hello\": \"JSON\"}')"
      ],
      "execution_count": 0,
      "outputs": []
    },
    {
      "cell_type": "code",
      "metadata": {
        "id": "TICsezm8DS2D",
        "colab_type": "code",
        "colab": {}
      },
      "source": [
        "%%sql\n",
        "select * from json_messages"
      ],
      "execution_count": 0,
      "outputs": []
    },
    {
      "cell_type": "markdown",
      "metadata": {
        "id": "E-n0nobW73lw",
        "colab_type": "text"
      },
      "source": [
        "JSON関数も用意されておりパースに失敗するとエラーを返してくれます"
      ]
    },
    {
      "cell_type": "code",
      "metadata": {
        "id": "I3IFftgwDXNW",
        "colab_type": "code",
        "colab": {}
      },
      "source": [
        "%%sql\n",
        "insert into\n",
        "  json_messages\n",
        "values\n",
        "  (3, json('{\"users\": [1, 2]}'))"
      ],
      "execution_count": 0,
      "outputs": []
    },
    {
      "cell_type": "markdown",
      "metadata": {
        "id": "W70_aQaE8rap",
        "colab_type": "text"
      },
      "source": [
        "JSON_EXTRACT関数を使うとJSONから指定のキーを持つ値を抽出できます。"
      ]
    },
    {
      "cell_type": "code",
      "metadata": {
        "id": "CgIHMO61DdK5",
        "colab_type": "code",
        "colab": {}
      },
      "source": [
        "%%sql\n",
        "select\n",
        "  json_extract(msg, '$.users') as users\n",
        "from\n",
        "  json_messages\n",
        "where\n",
        "  id = 3"
      ],
      "execution_count": 0,
      "outputs": []
    },
    {
      "cell_type": "markdown",
      "metadata": {
        "id": "NjSbAtdQ80Ll",
        "colab_type": "text"
      },
      "source": [
        "配列を1行ずつバラしていくときにCROSS JOINが活用できます。"
      ]
    },
    {
      "cell_type": "code",
      "metadata": {
        "id": "SkYIvNFODgEO",
        "colab_type": "code",
        "colab": {}
      },
      "source": [
        "%%sql\n",
        "select\n",
        "  value as user\n",
        "from\n",
        "  (select\n",
        "    json_extract(msg, '$.users') as users\n",
        "  from\n",
        "    json_messages\n",
        "  where\n",
        "    id = 3\n",
        "  ) as t\n",
        "cross join\n",
        "  json_each(t.users)"
      ],
      "execution_count": 0,
      "outputs": []
    },
    {
      "cell_type": "markdown",
      "metadata": {
        "id": "AwFRQXXmpDZC",
        "colab_type": "text"
      },
      "source": [
        "## インデックス\n",
        "\n",
        "RDBMSではデータを高速に取得するためにインデックスと呼ばれる機能を利用できます。"
      ]
    },
    {
      "cell_type": "markdown",
      "metadata": {
        "id": "6hfLLsRNvy_h",
        "colab_type": "text"
      },
      "source": [
        "### テーブル結合\n",
        "\n",
        "例のためUUIDというランダムな文字列を100万件取得します"
      ]
    },
    {
      "cell_type": "code",
      "metadata": {
        "id": "s0-B_0pyGTvg",
        "colab_type": "code",
        "colab": {}
      },
      "source": [
        "%%bigquery --project {PROJECT_ID} df_seq1\n",
        "select\n",
        "  x,\n",
        "  generate_uuid() as uuid1\n",
        "from\n",
        "  unnest(generate_array(1, 1000000)) as x\n",
        "order by\n",
        "  rand()"
      ],
      "execution_count": 0,
      "outputs": []
    },
    {
      "cell_type": "code",
      "metadata": {
        "id": "UPVAqMmY9KG_",
        "colab_type": "code",
        "colab": {}
      },
      "source": [
        "df_seq1.head()"
      ],
      "execution_count": 0,
      "outputs": []
    },
    {
      "cell_type": "code",
      "metadata": {
        "id": "HYXN24XqYqOX",
        "colab_type": "code",
        "colab": {}
      },
      "source": [
        "%%bigquery --project {PROJECT_ID} df_seq2\n",
        "select\n",
        "  x,\n",
        "  generate_uuid() as uuid2\n",
        "from\n",
        "  unnest(generate_array(1, 1000000)) as x\n",
        "order by\n",
        "  rand()"
      ],
      "execution_count": 0,
      "outputs": []
    },
    {
      "cell_type": "markdown",
      "metadata": {
        "id": "_NJET-Mq9daQ",
        "colab_type": "text"
      },
      "source": [
        "取得したUUIDをSQLiteに格納していきます"
      ]
    },
    {
      "cell_type": "code",
      "metadata": {
        "id": "DrR-LKtCZHF9",
        "colab_type": "code",
        "colab": {}
      },
      "source": [
        "import sqlite3\n",
        "df_seq1.to_sql('seq1', sqlite3.connect('tmp.sqlite3'), if_exists='replace')\n",
        "df_seq2.to_sql('seq2', sqlite3.connect('tmp.sqlite3'), if_exists='replace')\n",
        "df_seq1.to_sql('seq1_ind', sqlite3.connect('tmp.sqlite3'), if_exists='replace')\n",
        "df_seq2.to_sql('seq2_ind', sqlite3.connect('tmp.sqlite3'), if_exists='replace')"
      ],
      "execution_count": 0,
      "outputs": []
    },
    {
      "cell_type": "markdown",
      "metadata": {
        "id": "Vllc2bTw946q",
        "colab_type": "text"
      },
      "source": [
        "件数を確認してみましょう"
      ]
    },
    {
      "cell_type": "code",
      "metadata": {
        "id": "M5Xp6URGZmD5",
        "colab_type": "code",
        "colab": {}
      },
      "source": [
        "%%sql\n",
        "select count(1) from seq1\n",
        "union all\n",
        "select count(1) from seq2"
      ],
      "execution_count": 0,
      "outputs": []
    },
    {
      "cell_type": "markdown",
      "metadata": {
        "id": "5RI7tFz098tW",
        "colab_type": "text"
      },
      "source": [
        "`%%time` マジックを利用するとセルの実行に掛かる時間を計測することができます\n",
        "\n",
        "まずはインデックスを未使用のテーブル（seq1, seq2）について同じキーを持つレコードをJOINしてみましょう"
      ]
    },
    {
      "cell_type": "code",
      "metadata": {
        "id": "ztpdfveaZ2B6",
        "colab_type": "code",
        "colab": {}
      },
      "source": [
        "%%time\n",
        "%%sql\n",
        "select\n",
        "  count(1),\n",
        "  count(distinct x),\n",
        "  sum(x)\n",
        "from\n",
        "  seq1\n",
        "join\n",
        "  seq2\n",
        "using (x)\n",
        "\n",
        "order by\n",
        "  x"
      ],
      "execution_count": 0,
      "outputs": []
    },
    {
      "cell_type": "markdown",
      "metadata": {
        "id": "xvEWZuKP-LUl",
        "colab_type": "text"
      },
      "source": [
        "SQLiteではCREATE INDEX文を利用することでインデックスを設定することができます。\n",
        "\n",
        "インデックス未設定のテーブルと区別するため先ほどのテーブル名に _ind という接尾辞を付けてあります。"
      ]
    },
    {
      "cell_type": "code",
      "metadata": {
        "id": "RxDzlaS6adeR",
        "colab_type": "code",
        "colab": {}
      },
      "source": [
        "%%sql\n",
        "create index seq1_x on seq1_ind(x);\n",
        "create index seq2_x on seq2_ind(x);"
      ],
      "execution_count": 0,
      "outputs": []
    },
    {
      "cell_type": "markdown",
      "metadata": {
        "id": "cT0a9N3C-edE",
        "colab_type": "text"
      },
      "source": [
        "先ほどのJOINクエリをインデックス設定したテーブルを使って実行してみます。"
      ]
    },
    {
      "cell_type": "code",
      "metadata": {
        "id": "cUb_Wnb1fi-D",
        "colab_type": "code",
        "colab": {}
      },
      "source": [
        "%%time\n",
        "%%sql\n",
        "select\n",
        "  count(1),\n",
        "  count(distinct x),\n",
        "  sum(x)\n",
        "from\n",
        "  seq1_ind -- index x\n",
        "join\n",
        "  seq2_ind -- index x\n",
        "using (x)\n",
        "\n",
        "order by\n",
        "  x"
      ],
      "execution_count": 0,
      "outputs": []
    },
    {
      "cell_type": "markdown",
      "metadata": {
        "id": "MtTKIku4-lkO",
        "colab_type": "text"
      },
      "source": [
        "速くなったでしょうか。単一のクエリだと分かりにくいですね (´ω｀)"
      ]
    },
    {
      "cell_type": "markdown",
      "metadata": {
        "id": "Qay3BCj4v7Jz",
        "colab_type": "text"
      },
      "source": [
        "### EXPLAIN文\n",
        "\n",
        "クエリエンジンにはEXPLAIN文というクエリの実行計画を確認できる機能があり、クエリを実行したときにどういったAPIが実行されるか事前に確認することができます。\n",
        "\n",
        "SQLiteにもEXPLAINが用意されているので、先ほどのクエリで呼び出される機能をEXPLAINで確認してみましょう"
      ]
    },
    {
      "cell_type": "code",
      "metadata": {
        "id": "BOO1bNH7f4Ix",
        "colab_type": "code",
        "colab": {}
      },
      "source": [
        "%%sql\n",
        "explain\n",
        "select\n",
        "  count(1),\n",
        "  count(distinct x)\n",
        "from\n",
        "  seq1\n",
        "join\n",
        "  seq2\n",
        "using (x)\n",
        "\n",
        "order by\n",
        "  x"
      ],
      "execution_count": 0,
      "outputs": []
    },
    {
      "cell_type": "code",
      "metadata": {
        "id": "iXdO1w0vf_Bf",
        "colab_type": "code",
        "colab": {}
      },
      "source": [
        "%%sql\n",
        "explain\n",
        "select\n",
        "  count(1),\n",
        "  count(distinct x)\n",
        "from\n",
        "  seq1_ind\n",
        "join\n",
        "  seq2_ind\n",
        "using (x)\n",
        "\n",
        "order by\n",
        "  x"
      ],
      "execution_count": 0,
      "outputs": []
    },
    {
      "cell_type": "markdown",
      "metadata": {
        "id": "u0BlpIxQv-1c",
        "colab_type": "text"
      },
      "source": [
        "### 複数のクエリ\n",
        "\n",
        "インデックスが効果を発揮するのはクエリが複数回実行されるケースになります。ここでは複数回クエリが実行された時のインデックスの効果を体感してみましょう。"
      ]
    },
    {
      "cell_type": "markdown",
      "metadata": {
        "id": "OyogrK8j_j-i",
        "colab_type": "text"
      },
      "source": [
        "実行時間の進捗を確認するために tqdm というライブラリを使用します。"
      ]
    },
    {
      "cell_type": "code",
      "metadata": {
        "id": "PwPnItK2snmw",
        "colab_type": "code",
        "colab": {}
      },
      "source": [
        "! pip install tqdm"
      ],
      "execution_count": 0,
      "outputs": []
    },
    {
      "cell_type": "markdown",
      "metadata": {
        "id": "aCoGfL0f_yvt",
        "colab_type": "text"
      },
      "source": [
        "以下のスクリプトは seq1 テーブルからカラム x が指定の値になっているレコードを抽出するクエリを300回呼び出したものです。\n",
        "\n",
        "まずはインデックス未使用の場合で実行してみましょう。"
      ]
    },
    {
      "cell_type": "code",
      "metadata": {
        "id": "NBRU6sWsndK4",
        "colab_type": "code",
        "colab": {}
      },
      "source": [
        "%%time\n",
        "import pandas as pd\n",
        "import sqlite3\n",
        "import tqdm\n",
        "\n",
        "def generate_sql(x):\n",
        "  return f'''\n",
        "    select\n",
        "      uuid1\n",
        "    from\n",
        "      seq1\n",
        "    where\n",
        "      x = {x}\n",
        "  '''\n",
        "\n",
        "with sqlite3.connect('tmp.sqlite3') as con:\n",
        "  for x in tqdm.tqdm(range(1, 300)):\n",
        "    pd.read_sql(generate_sql(x), con=con)\n",
        "\n",
        "'done'"
      ],
      "execution_count": 0,
      "outputs": []
    },
    {
      "cell_type": "markdown",
      "metadata": {
        "id": "RBsZQPwBAIAN",
        "colab_type": "text"
      },
      "source": [
        "続けてインデックスを使用した場合を試してみます。"
      ]
    },
    {
      "cell_type": "code",
      "metadata": {
        "id": "YHEEkpRGsXuR",
        "colab_type": "code",
        "colab": {}
      },
      "source": [
        "%%time\n",
        "import pandas as pd\n",
        "import sqlite3\n",
        "import tqdm\n",
        "\n",
        "def generate_sql(x):\n",
        "  return f'''\n",
        "    select\n",
        "      uuid1\n",
        "    from\n",
        "      seq1_ind -- index x\n",
        "    where\n",
        "      x = {x}\n",
        "  '''\n",
        "\n",
        "with sqlite3.connect('tmp.sqlite3') as con:\n",
        "  for x in tqdm.tqdm(range(1, 300)):\n",
        "    pd.read_sql(generate_sql(x), con=con)\n",
        "\n",
        "'done'"
      ],
      "execution_count": 0,
      "outputs": []
    },
    {
      "cell_type": "markdown",
      "metadata": {
        "id": "QaMrxe7SAPq1",
        "colab_type": "text"
      },
      "source": [
        "一瞬で終わりました\n",
        "\n",
        "次のクエリはどうなるでしょうか"
      ]
    },
    {
      "cell_type": "code",
      "metadata": {
        "id": "v0bmgLm7s0bX",
        "colab_type": "code",
        "colab": {}
      },
      "source": [
        "%%time\n",
        "import pandas as pd\n",
        "import sqlite3\n",
        "import tqdm\n",
        "\n",
        "def generate_sql(x):\n",
        "  return f'''\n",
        "    select\n",
        "      uuid1\n",
        "    from\n",
        "      seq1_ind -- index x\n",
        "    where\n",
        "      x = {x}\n",
        "      or uuid1 like 'a%'\n",
        "  '''\n",
        "\n",
        "with sqlite3.connect('tmp.sqlite3') as con:\n",
        "  for x in tqdm.tqdm(range(1, 300)):\n",
        "    pd.read_sql(generate_sql(x), con=con)\n",
        "\n",
        "'done'"
      ],
      "execution_count": 0,
      "outputs": []
    },
    {
      "cell_type": "markdown",
      "metadata": {
        "id": "rCiS19d8AUKq",
        "colab_type": "text"
      },
      "source": [
        "OR演算子でインデックスを使っていない条件式が含まれるのでインデックスが使われないようです。ミスは起こりうるものですが意図した通りにインデックスが使われているか確認する必要があります"
      ]
    },
    {
      "cell_type": "markdown",
      "metadata": {
        "id": "g4pe4h20wysQ",
        "colab_type": "text"
      },
      "source": [
        "## 分析関数（Window Functions）\n",
        "\n",
        "次はBigQueryの世界に戻ってきます。分析関数はデータの集計だけではなく機械学習用のデータセットを作成するのにも便利に使える機能です。ウィンドウ関数を利用すると今みているレコードだけじゃなく他のレコードの状態をみて集計処理を実行できます。"
      ]
    },
    {
      "cell_type": "markdown",
      "metadata": {
        "id": "hNLP38-d6GVr",
        "colab_type": "text"
      },
      "source": [
        "### LEAD / LAG 関数\n",
        "\n",
        "あるレコードについて指定の順序で前後にあるレコードのカラムを取得するための機能です。例えば日別のログイン履歴などでログインした日付と次にログインした日付を求めることでログインしなかった日数などを集計することができます。"
      ]
    },
    {
      "cell_type": "code",
      "metadata": {
        "id": "vZM5B24O4OJs",
        "colab_type": "code",
        "colab": {}
      },
      "source": [
        "%%bigquery --project {PROJECT_ID}\n",
        "-- カナダのconfirmed_cases推移（日別）\n",
        "select\n",
        "  *\n",
        "from\n",
        "  tmp.pivot_stack\n",
        "where\n",
        "  country_region = 'Canada'\n",
        "  and province_state = 'British Columbia'\n",
        "\n",
        "order by\n",
        "  date"
      ],
      "execution_count": 0,
      "outputs": []
    },
    {
      "cell_type": "markdown",
      "metadata": {
        "id": "HDMHkT6GBuID",
        "colab_type": "text"
      },
      "source": [
        "LAG関数を使って前日のconfirmed_casesを取得してみます。ウィンドウ関数の利用時には `GROUP BY` による集約は必要なく、関数の後ろに `OVER` で始まる順序などの条件指定が入ります。"
      ]
    },
    {
      "cell_type": "code",
      "metadata": {
        "id": "T38ZuX5a41kR",
        "colab_type": "code",
        "colab": {}
      },
      "source": [
        "%%bigquery --project {PROJECT_ID}\n",
        "select\n",
        "  date,\n",
        "  confirmed_cases,\n",
        "  lag(confirmed_cases) over (order by date) prev_confirmed_cases\n",
        "from\n",
        "  tmp.pivot_stack\n",
        "where\n",
        "  country_region = 'Canada'\n",
        "  and province_state = 'British Columbia'\n",
        "\n",
        "order by\n",
        "  date"
      ],
      "execution_count": 0,
      "outputs": []
    },
    {
      "cell_type": "markdown",
      "metadata": {
        "id": "OKFxgh9SCJUa",
        "colab_type": "text"
      },
      "source": [
        "元のデータセットはconfirmed_casesが累計値になっています。前日との差分を取ることで1日あたりどれくらい増加したのか集計してみます。"
      ]
    },
    {
      "cell_type": "code",
      "metadata": {
        "id": "Smt7S5-h5JSw",
        "colab_type": "code",
        "colab": {}
      },
      "source": [
        "%%bigquery --project {PROJECT_ID}\n",
        "select\n",
        "  date,\n",
        "  confirmed_cases,\n",
        "  confirmed_cases - prev_confirmed_cases as confirmed_cases_diff\n",
        "from\n",
        "  (select\n",
        "    date,\n",
        "    confirmed_cases,\n",
        "    lag(confirmed_cases) over (order by date) prev_confirmed_cases\n",
        "  from\n",
        "    tmp.pivot_stack\n",
        "  where\n",
        "    country_region = 'Canada'\n",
        "    and province_state = 'British Columbia'\n",
        "  )\n",
        "\n",
        "order by\n",
        "  date"
      ],
      "execution_count": 0,
      "outputs": []
    },
    {
      "cell_type": "markdown",
      "metadata": {
        "id": "cMtPa1QtCYD-",
        "colab_type": "text"
      },
      "source": [
        "例によってPandasに格納してプロットしてみます"
      ]
    },
    {
      "cell_type": "code",
      "metadata": {
        "id": "Awl0Z9mO5XDx",
        "colab_type": "code",
        "colab": {}
      },
      "source": [
        "%%bigquery --project {PROJECT_ID} df_canada\n",
        "select\n",
        "  date,\n",
        "  confirmed_cases - prev_confirmed_cases as confirmed_cases_diff\n",
        "from\n",
        "  (select\n",
        "    date,\n",
        "    confirmed_cases,\n",
        "    lag(confirmed_cases) over (order by date) prev_confirmed_cases\n",
        "  from\n",
        "    tmp.pivot_stack\n",
        "  where\n",
        "    country_region = 'Canada'\n",
        "    and province_state = 'British Columbia'\n",
        "  )\n",
        "\n",
        "order by\n",
        "  date"
      ],
      "execution_count": 0,
      "outputs": []
    },
    {
      "cell_type": "code",
      "metadata": {
        "id": "hPq5X4dB5bCs",
        "colab_type": "code",
        "colab": {}
      },
      "source": [
        "df_canada.plot.line(x='date', y='confirmed_cases_diff')"
      ],
      "execution_count": 0,
      "outputs": []
    },
    {
      "cell_type": "markdown",
      "metadata": {
        "id": "WrgOCAHD6MAX",
        "colab_type": "text"
      },
      "source": [
        "### 累積和\n",
        "\n",
        "先ほどは累計値を日別に変換しましたが、逆に累計値を求めるにはどうすればよいでしょうか。SUM関数やCOUNT関数などもウィンドウ関数として利用することができ、あるレコードまでの累積和などを求めることができます。"
      ]
    },
    {
      "cell_type": "code",
      "metadata": {
        "id": "AFYf2xQl6Z_R",
        "colab_type": "code",
        "colab": {}
      },
      "source": [
        "%%bigquery --project {PROJECT_ID}\n",
        "with\n",
        "  df_canada as\n",
        "  (select\n",
        "    date,\n",
        "    confirmed_cases as confirmed_cases_original,\n",
        "    confirmed_cases - prev_confirmed_cases as confirmed_cases_diff\n",
        "  from\n",
        "    (select\n",
        "      date,\n",
        "      confirmed_cases,\n",
        "      lag(confirmed_cases) over (order by date) prev_confirmed_cases\n",
        "    from\n",
        "      tmp.pivot_stack\n",
        "    where\n",
        "      country_region = 'Canada'\n",
        "      and province_state = 'British Columbia'\n",
        "    )\n",
        "  )\n",
        "\n",
        "select\n",
        "  date,\n",
        "  confirmed_cases_original,\n",
        "  sum(confirmed_cases_diff) over (order by date) as confirmed_cases_cumsum\n",
        "from\n",
        "  df_canada\n",
        "\n",
        "order by\n",
        "  date"
      ],
      "execution_count": 0,
      "outputs": []
    },
    {
      "cell_type": "markdown",
      "metadata": {
        "id": "Zkg_Iofl6woF",
        "colab_type": "text"
      },
      "source": [
        "### RANK / ROW_NUMBER 関数\n",
        "\n",
        "RANK / ROW_NUMBER 関数を使うとランキングを求めたり行番号を求めることができます。\n",
        "\n",
        "使い分けは RANK は同一の値を持つときに同じランクになる場合があるのと、ROW_NUMBERは同一の値が出てきたときは最初に見つかった順に番号が振られます。\n",
        "\n",
        "ROW_NUMBER関数についてはクエリの重複排除を行うときによく利用します（例: ROW_NUMBERの結果が1になるものだけ取ってくる）\n",
        "\n",
        "ここではRANK関数を利用してconfirmed_casesが多い順にランク付けをしてみましょう。"
      ]
    },
    {
      "cell_type": "code",
      "metadata": {
        "id": "a_vxER5G6z2Z",
        "colab_type": "code",
        "colab": {}
      },
      "source": [
        "%%bigquery --project {PROJECT_ID}\n",
        "select\n",
        "  province_state,\n",
        "  confirmed_cases,\n",
        "  rank() over (order by confirmed_cases desc) as rank\n",
        "from\n",
        "  tmp.pivot_stack\n",
        "where\n",
        "  country_region = 'Canada'\n",
        "  and date = '2020-03-31'\n",
        "\n",
        "order by\n",
        "  confirmed_cases"
      ],
      "execution_count": 0,
      "outputs": []
    },
    {
      "cell_type": "markdown",
      "metadata": {
        "id": "BM4SxrCUDdBi",
        "colab_type": "text"
      },
      "source": [
        "上位三件に絞り込んでみます。"
      ]
    },
    {
      "cell_type": "code",
      "metadata": {
        "id": "12CaQN-k8beH",
        "colab_type": "code",
        "colab": {}
      },
      "source": [
        "%%bigquery --project {PROJECT_ID}\n",
        "select\n",
        "  *\n",
        "from\n",
        "  (select\n",
        "    province_state,\n",
        "    confirmed_cases,\n",
        "    rank() over (order by confirmed_cases desc) as rank\n",
        "  from\n",
        "    tmp.pivot_stack\n",
        "  where\n",
        "    country_region = 'Canada'\n",
        "    and date = '2020-03-31'\n",
        "  )\n",
        "where\n",
        "  rank <= 3\n",
        "\n",
        "order by\n",
        "  rank"
      ],
      "execution_count": 0,
      "outputs": []
    },
    {
      "cell_type": "markdown",
      "metadata": {
        "id": "B7c3MNqDDmms",
        "colab_type": "text"
      },
      "source": [
        "## データの活用\n",
        "\n",
        "データベースに格納されているデータから今起こっている現象や未来の動きを説明する方法について学んでみましょう。"
      ]
    },
    {
      "cell_type": "code",
      "metadata": {
        "id": "5O7j0JcjJ2Z_",
        "colab_type": "code",
        "colab": {}
      },
      "source": [
        "%%bigquery --project {PROJECT_ID} df\n",
        "SELECT * FROM `bigquery-public-data.covid19_jhu_csse.confirmed_cases` where country_region = \"Japan\" or country_region = 'US' order by country_region"
      ],
      "execution_count": 0,
      "outputs": []
    },
    {
      "cell_type": "markdown",
      "metadata": {
        "id": "lv_1ITDHFDJA",
        "colab_type": "text"
      },
      "source": [
        "USと日本の二つをとってくることにしてありますが、他の地域のデータで試してもいいと思います。"
      ]
    },
    {
      "cell_type": "code",
      "metadata": {
        "id": "vVpMO8LOEsMr",
        "colab_type": "code",
        "colab": {}
      },
      "source": [
        "df.head()"
      ],
      "execution_count": 0,
      "outputs": []
    },
    {
      "cell_type": "markdown",
      "metadata": {
        "id": "JopHTQPxFBLf",
        "colab_type": "text"
      },
      "source": [
        "### SIRモデル\n",
        "\n",
        "以下で感染現象のモデルを定義します。今回用いるモデルは一般に”SIR”と呼ばれるタイプです。\n",
        "\n",
        "感染現象は人と人の接触によって起きますが、これを完全に再現する理論がまだ無いので、もっと簡単に気体分子で代用します。つまり人を気体分子が表しており、分子同士の衝突が人と人との接触です。気体分子は他の分子を区別しないので、すべての分子が他の分子とぶつかる確率は等しくなります。これは直感的におかしい仮定ですが、案外これでも正確に計算できることが経験的に知られているのです。\n",
        "\n",
        "このモデルの構成要素である人が持っている状態は三つ、名前のとおりS,I,Rです。それぞれ未感染、発病中、回復です。回復した人は免疫をもっていて、もうその病気にかからないものとします。これも単純すぎる仮定であり、人は毎年インフルエンザにかかります。\n",
        "\n",
        "状態が定義されたら次は、それぞれの数もしくは割合がどのように変動するかを考えます。時刻tの時の状態にもとづいて、t+1の時の状態がどうなるかを定義するのです。もっとも単純に考えると、tの時とt+1の時の差がどうなるかを計算できれば、それを今の状態に加算すればt+1の状態が得られることになります。\n",
        "\n",
        "こう説明すると単純きわまりなく、だれでもできそうな気がしてきますが、数学で言うと「微分」と言われる操作にあたります。t+1とtの間の違いを計算する手段（関数）を獲得できれば、それはつまり微分という操作に成功した事になるわけです。微分というと難しそうですが実際やってるのはこの程度です。有用かつ簡単な手法ですから皆さんも過去の嫌な記憶は忘れて新たな気持ちで取り組んでください。"
      ]
    },
    {
      "cell_type": "code",
      "metadata": {
        "id": "Zpgq48tCE8cE",
        "colab_type": "code",
        "colab": {}
      },
      "source": [
        "! pip install pymc\n",
        "import numpy as np\n",
        "import pymc as pm\n",
        "import matplotlib.pyplot as plt\n",
        "from pymc.Matplot import plot\n",
        "import scipy.stats"
      ],
      "execution_count": 0,
      "outputs": []
    },
    {
      "cell_type": "code",
      "metadata": {
        "id": "_zJtbcktFMi7",
        "colab_type": "code",
        "colab": {}
      },
      "source": [
        "# 実行時間のため60日分を利用\n",
        "data = np.array(df.values[0][6:-1])[:60]\n",
        "tinterval = len(data)\n",
        "\n",
        "print(len(data))\n",
        "data"
      ],
      "execution_count": 0,
      "outputs": []
    },
    {
      "cell_type": "markdown",
      "metadata": {
        "id": "PwazgxwKFmwp",
        "colab_type": "text"
      },
      "source": [
        "次のコードのSIRというクラスは4つの変数S_h I_h R_h T_h をデータ長回数操作して、状態を積み上げていく設計になっています。その中で核心になるのは　ds, di, dr, dt を計算する部分です。これらはすべて S, I, R, T の微分です。微分であることがわかりやすいような名前になっています。Tはトータル感染者数で、データが収録しているのはこの値ですから、最終的にこれを出力するようにしておかないとデータへのフィッティングができないので苦肉の策で変数をひとつ増やしてありますが、当面これは忘れてSIRの三つに着目してください。\n",
        "\n",
        "感染現象はSの分子とIの分子が衝突する事で起きますが、毎回必ず起きるわけではなく、衝突してからある確率で起きます。このパラメータβは感染者の増大の加減を決める重要な値です。感染者がうまく未感染者にぶつかる確率は S/人口 ですから、新たに発生する患者数は β*I*S/人口 です。\n",
        "\n",
        "発病したひとは一定の割合で治って復活します。今回扱っている病気は全員が復活するわけではないのですが、あまり暗い話ばかりではアレなので単純化して全員が治癒する仮定を使います。治癒する割合も、重要なパラメータであり、発病している人が多ければ治る人もそれだけ多くなりますから、治ったひとはIに比例して増えることになります。dr=γ*I です。\n",
        "\n",
        "このようにしてそれぞれの人数の増減を計算する式が揃ったら、まとめてみましょう。"
      ]
    },
    {
      "cell_type": "markdown",
      "metadata": {
        "id": "vOqhPJvcHEyv",
        "colab_type": "text"
      },
      "source": [
        "![image.png](data:image/png;base64,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)"
      ]
    },
    {
      "cell_type": "markdown",
      "metadata": {
        "id": "aabzg9X2HI6E",
        "colab_type": "text"
      },
      "source": [
        "右辺に全体の状態を表す三つの変数 S I Rが出現し、左辺がその微分になっている、微分方程式のセットができあがりました。このように、全体の状態が次にどうなるかを計算する手法を数式としてまとめたものを「モデル」あるいは「力学モデル」といい、変数として確率変数が含まれているものを「確率モデル」といいます。一般にモデルという用語は現実に関する仮定を表し、データベースにおけるモデルはデータベースシステムにおけるデータの構造に関する仮定です。ここでは社会や業務でであう現象に関する数学的な仮定、特に微分方程式として構成されたものをモデルと呼んでいるわけです。\n",
        "\n",
        "力学は物体の運動を記述した微分方程式のセットです。加速度や速度がどのようにして決まるかを記述した微分方程式を何本かまとめたものが力学です。今我々が見ているのは疫病の力学モデルといえます。"
      ]
    },
    {
      "cell_type": "code",
      "metadata": {
        "id": "6wQv6434Fau2",
        "colab_type": "code",
        "colab": {}
      },
      "source": [
        "__all__ = ['data', 'beta_0',\n",
        "           'I_0', 'R_0', \n",
        "           'pop_size', 'gamma',\n",
        "           'confirmed', 'confirmed_sim']\n",
        "\n",
        "#Parameters\n",
        "beta_0 = pm.Uniform('beta_0', 1e-9, 1.)\n",
        "gamma = pm.Uniform('gamma', 1e-9, 1.0)\n",
        "pop_size = 100000000\n",
        "# s_frac = pm.Uniform('s_frac', 1e-9, 1.)\n",
        "\n",
        "#Initial conditions\n",
        "I_0 = pm.Uniform('I_0', 1., 10.)\n",
        "S_0 = pop_size - I_0\n",
        "R_0 = 0.\n",
        "T_0 = I_0\n",
        "\n",
        "#SIIRD + vector model for human ectoparasite plague\n",
        "@pm.deterministic\n",
        "def SIR(S_0=S_0, I_0=I_0, R_0=R_0, \n",
        "         beta_0=beta_0):\n",
        "    S_h = np.zeros(tinterval)\n",
        "    I_h = np.zeros(tinterval)\n",
        "    R_h = np.zeros(tinterval)\n",
        "    T_h = np.zeros(tinterval)\n",
        "        \n",
        "    S_h[0] = S_0\n",
        "    I_h[0] = I_0\n",
        "    R_h[0] = R_0\n",
        "    T_h[0] = T_0\n",
        "    \n",
        "    for i in range(1, tinterval):\n",
        "        N_h = S_h[i-1] + I_h[i-1] + R_h[i-1]\n",
        "        \n",
        "        dr = I_h[i-1] * gamma\n",
        "        ii = (S_h[i-1] / pop_size) * I_h[i-1]*beta_0\n",
        "        di = ii - dr\n",
        "        dt = ii\n",
        "        ds = - ii\n",
        "\n",
        "        S_h[i] = S_h[i-1] + di\n",
        "        I_h[i] = I_h[i-1] + di\n",
        "        R_h[i] = R_h[i-1] + dr\n",
        "        T_h[i] = I_h[i-1] + dt\n",
        "\n",
        "    return S_h, I_h, R_h, T_h\n",
        "\n",
        "D_h = pm.Lambda('D_h', lambda SIR=SIR: SIR[3])\n",
        "\n",
        "#Likelihood\n",
        "confirmed = pm.Poisson('confirmed', mu=D_h, value=data, observed=True)\n",
        "confirmed_sim = pm.Poisson('confirmed_sim', mu=D_h)"
      ],
      "execution_count": 0,
      "outputs": []
    },
    {
      "cell_type": "markdown",
      "metadata": {
        "id": "ElklGd1RF7ik",
        "colab_type": "text"
      },
      "source": [
        "モデルは微分方程式から普通の関数に数学を使って変形することができるものもありますが、大部分はそのような解法が無いか、未だ見つかっていません。しかし、微分方程式が揃っていれば、次の状態を計算することはできますから、実際に計算機で計算してみて、現実と合っているかを確認する事は可能です。\n",
        "\n",
        "近年では機械学習として、高次元の数理構造を高次元のデータに合うように調整する手法が整備されてきています。ここではそれらの手法のうち、マルコフ・チェーン・モテカルロと呼ばれる手法を用いてSIRモデルをデータに合うように調整し、疫病の脅威を見積もってみましょう。"
      ]
    },
    {
      "cell_type": "code",
      "metadata": {
        "id": "t0m6JVAiF1I9",
        "colab_type": "code",
        "colab": {}
      },
      "source": [
        "if __name__ == '__main__':\n",
        "    vars = ['data', 'beta_0',\n",
        "           'I_0', 'R_0', \n",
        "           'pop_size', 'gamma',\n",
        "           'confirmed', 'confirmed_sim']\n",
        "    \n",
        "    mc = pm.MCMC([beta_0, gamma, I_0, confirmed, confirmed_sim])\n",
        "    mc.use_step_method(pm.AdaptiveMetropolis, [beta_0, gamma, I_0])\n",
        "    mc.sample(iter=2000, burn=1000, thin=10, verbose=0)\n",
        "    mc.sample(iter=2000, burn=1000, thin=10, verbose=0)\n",
        "\n",
        "    mc.db.close()"
      ],
      "execution_count": 0,
      "outputs": []
    },
    {
      "cell_type": "markdown",
      "metadata": {
        "id": "Bo74ReP5Hmrg",
        "colab_type": "text"
      },
      "source": [
        "データと計算資源の限界から、あまりうまくフィッティングできませんでした。\n",
        "\n",
        "特に、USのデータには全くフィットしません。SIRモデルのIが充分に小さい場合は　S/人口　はほぼ1で定数とみなせますから、diはIの定数倍となります。微分しても同じ関数のままになっているこのIにあてはまるような関数は指数関数です。つまり感染拡大初期は指数関数的に増大することがわかります。感染者が外出すれば未感染者としか出会わないので感染者が増える分だけ増分も増えるのでこうなります。\n",
        "\n",
        "USのデータはある時期から指数関数ではなくなっています。人間の観測能力には限界があり、それを超えて増え続ける患者を数える事はできない、という事実がデータからわかります。そのようにモデルを構成すればフィットさせる事ができるでしょうが、実際に我々が必要とする数値をそこから計算することは容易ではなさそうです。指数関数部分だけをみると毎日二倍になっていますからそれだけで充分ではないでしょうか。"
      ]
    },
    {
      "cell_type": "code",
      "metadata": {
        "id": "bhdAmHEcF60k",
        "colab_type": "code",
        "colab": {}
      },
      "source": [
        "mc.summary()"
      ],
      "execution_count": 0,
      "outputs": []
    },
    {
      "cell_type": "code",
      "metadata": {
        "id": "cb0DsrNFGgNe",
        "colab_type": "code",
        "colab": {}
      },
      "source": [
        "%matplotlib inline\n",
        "plot(mc)"
      ],
      "execution_count": 0,
      "outputs": []
    },
    {
      "cell_type": "code",
      "metadata": {
        "id": "pO6_gxQBGojj",
        "colab_type": "code",
        "colab": {}
      },
      "source": [
        "%matplotlib inline\n",
        "# 推定結果の可視化\n",
        "plt.figure(figsize=(10,10))\n",
        "plt.title('corona')\n",
        "plt.xlabel('Day')\n",
        "plt.ylabel('confirmed infectious')\n",
        "plt.plot(data, 'o', mec='black', color='black', label='confirmed infectious')\n",
        "plt.plot(confirmed_sim.stats()['mean'], color='red', linewidth=1, label='PPP (mean)')\n",
        "y_min = confirmed_sim.stats()['quantiles'][2.5]\n",
        "y_max = confirmed_sim.stats()['quantiles'][97.5]\n",
        "plt.fill_between(range(0,len(data)), y_min, y_max, color='r', alpha=0.3, label='PPP (95% CI)')\n",
        "plt.legend()"
      ],
      "execution_count": 0,
      "outputs": []
    },
    {
      "cell_type": "markdown",
      "metadata": {
        "id": "sXrM7pYMGZSF",
        "colab_type": "text"
      },
      "source": [
        "このように、データが生起する仕組みを考え、それにもとづいて解析を行ったり予測をする事で経営や社会に貢献することが、究極的にいえばデータ分析の目的です。その核心を構成しているのは確率として予測不可能な部分を抽象化した数理モデルであり、微分方程式です。微分方程式と言うと難しく感じますが、仕組みは先に見たとおり、じつに初歩的で、計算内容もここで扱ったものは単純であり、エクセルを用いて実装する事も容易です。\n",
        "\n",
        "諸事情を観察するかぎりでは、日本の感染確率 βは 0.1 から 0.2 回復率γは 0.08 前後のようです。これを使ってSIRモデルを別途作成し、今後どうなるかを計算してみるのもいいかもしれません。あまり楽観的な結果にはならないので、結果を口外しない約束ができ、かつ、蓋をあける勇気のある人だけがやってみてください。"
      ]
    },
    {
      "cell_type": "markdown",
      "metadata": {
        "id": "pWe5ENlsI8vf",
        "colab_type": "text"
      },
      "source": [
        "### 片付け\n",
        "\n",
        "#### GCPプロジェクトの削除"
      ]
    },
    {
      "cell_type": "code",
      "metadata": {
        "id": "UKhK_kZZGTsT",
        "colab_type": "code",
        "colab": {}
      },
      "source": [
        "! echo PROJECT_ID = {PROJECT_ID}\n",
        "! gcloud projects delete {PROJECT_ID}"
      ],
      "execution_count": 0,
      "outputs": []
    },
    {
      "cell_type": "code",
      "metadata": {
        "id": "nXQWPFAeJT8F",
        "colab_type": "code",
        "colab": {}
      },
      "source": [
        ""
      ],
      "execution_count": 0,
      "outputs": []
    }
  ]
}