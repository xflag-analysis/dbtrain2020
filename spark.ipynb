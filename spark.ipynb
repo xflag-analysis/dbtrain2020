{
  "nbformat": 4,
  "nbformat_minor": 0,
  "metadata": {
    "colab": {
      "name": "データベース研修_Spark入門.ipynb",
      "provenance": [],
      "collapsed_sections": []
    },
    "kernelspec": {
      "name": "python3",
      "display_name": "Python 3"
    }
  },
  "cells": [
    {
      "cell_type": "markdown",
      "metadata": {
        "id": "oJMrZY7McUDB",
        "colab_type": "text"
      },
      "source": [
        "# 20新卒データベース研修: Apache Spark入門"
      ]
    },
    {
      "cell_type": "markdown",
      "metadata": {
        "id": "K7wr_zu2cXai",
        "colab_type": "text"
      },
      "source": [
        "クラスタコンピューティングプラットフォーム Apache Spark (以後Spark) とはどのようなものか学んでみましょう。"
      ]
    },
    {
      "cell_type": "markdown",
      "metadata": {
        "id": "f6KUyMs6cz-W",
        "colab_type": "text"
      },
      "source": [
        "## Sparkとは"
      ]
    },
    {
      "cell_type": "markdown",
      "metadata": {
        "id": "tnC62Upyc2zg",
        "colab_type": "text"
      },
      "source": [
        "Sparkとは並列分散処理を行うための汎用的なプラットフォームです。  \n",
        "SQLやテキスト処理、機械学習といった異なる種類の処理を簡単に組み合わせられるのが特徴となっています。"
      ]
    },
    {
      "cell_type": "markdown",
      "metadata": {
        "id": "BV9TvL4eZhwp",
        "colab_type": "text"
      },
      "source": [
        "## 環境構築"
      ]
    },
    {
      "cell_type": "markdown",
      "metadata": {
        "id": "kF-eb5lzZse_",
        "colab_type": "text"
      },
      "source": [
        "### PySparkインストール"
      ]
    },
    {
      "cell_type": "code",
      "metadata": {
        "id": "rsB9K0cmtG7J",
        "colab_type": "code",
        "colab": {}
      },
      "source": [
        "!pip install pyspark"
      ],
      "execution_count": 0,
      "outputs": []
    },
    {
      "cell_type": "markdown",
      "metadata": {
        "id": "eQewuzMgZvyM",
        "colab_type": "text"
      },
      "source": [
        "### 環境変数設定"
      ]
    },
    {
      "cell_type": "code",
      "metadata": {
        "id": "XMcAmNrr3x51",
        "colab_type": "code",
        "colab": {}
      },
      "source": [
        "import os\n",
        "\n",
        "os.environ[\"JAVA_HOME\"] = \"/usr/lib/jvm/java-8-openjdk-amd64\""
      ],
      "execution_count": 0,
      "outputs": []
    },
    {
      "cell_type": "markdown",
      "metadata": {
        "id": "cDUIQYXLZypx",
        "colab_type": "text"
      },
      "source": [
        "## Hello, world!"
      ]
    },
    {
      "cell_type": "markdown",
      "metadata": {
        "id": "6lYCwvfCbjAs",
        "colab_type": "text"
      },
      "source": [
        "ユーザーが実際に記述するプログラムはドライバプログラムと呼ばれており、このプログラムを起点に処理が走ります。　\n",
        "\n",
        "ドライブプログラムからSparkの分散リソースにアクセスするのに必要な `SparkContext` を生成してみましょう。"
      ]
    },
    {
      "cell_type": "code",
      "metadata": {
        "id": "pxtZnicZ332C",
        "colab_type": "code",
        "colab": {}
      },
      "source": [
        "from pyspark import SparkConf, SparkContext\n",
        "\n",
        "# setMaster('local[*]'): クラスタのURLを設定 (ローカル (Colaboratory) 上で実行)\n",
        "# setAppName('my app'): アプリケーション名を設定 (任意)\n",
        "conf = SparkConf().setMaster('local[*]').setAppName('my app')\n",
        "sc = SparkContext(conf=conf)"
      ],
      "execution_count": 0,
      "outputs": []
    },
    {
      "cell_type": "markdown",
      "metadata": {
        "id": "mwxtTzeUoxG7",
        "colab_type": "text"
      },
      "source": [
        "次に`SparkContext` を使ってRDD (耐障害性分散データセット) を構築してみましょう。\n",
        "\n",
        "RDD (耐障害性分散データセット) とは、複数のコンピュートノードに跨って配置されているデータのコレクションであり、Sparkの全ての操作はRDDに対して行います。  \n",
        "ここでは、Colaboratoryにデフォルトで入っているサンプルデータのREADMEからRDDを生成してみます。"
      ]
    },
    {
      "cell_type": "code",
      "metadata": {
        "id": "WH4gNkG_4FcX",
        "colab_type": "code",
        "colab": {}
      },
      "source": [
        "lines = sc.textFile('sample_data/README.md')"
      ],
      "execution_count": 0,
      "outputs": []
    },
    {
      "cell_type": "markdown",
      "metadata": {
        "id": "4_r1uTGs9OiU",
        "colab_type": "text"
      },
      "source": [
        "なお、READMEの中身は以下のようになっています。"
      ]
    },
    {
      "cell_type": "code",
      "metadata": {
        "id": "YwgrpjTbonkv",
        "colab_type": "code",
        "colab": {}
      },
      "source": [
        "!cat sample_data/README.md"
      ],
      "execution_count": 0,
      "outputs": []
    },
    {
      "cell_type": "markdown",
      "metadata": {
        "id": "GpNDvwwB3TIy",
        "colab_type": "text"
      },
      "source": [
        "以下のようにすると、READMEからURLを含む行のみを取得できます。"
      ]
    },
    {
      "cell_type": "code",
      "metadata": {
        "id": "I-TIjV1auJKp",
        "colab_type": "code",
        "colab": {}
      },
      "source": [
        "# URLを含む行のみに絞り込む\n",
        "url_lines = lines.filter(lambda s: 'http' in s)\n",
        "\n",
        "# URLを含む行を取得\n",
        "url_lines.collect()"
      ],
      "execution_count": 0,
      "outputs": []
    },
    {
      "cell_type": "markdown",
      "metadata": {
        "id": "cOc3tYq6BRqf",
        "colab_type": "text"
      },
      "source": [
        "## RDD (耐障害性分散データセット) "
      ]
    },
    {
      "cell_type": "markdown",
      "metadata": {
        "id": "iPHWVoJGBzKK",
        "colab_type": "text"
      },
      "source": [
        "### 基本"
      ]
    },
    {
      "cell_type": "markdown",
      "metadata": {
        "id": "uIWCC82KB-bw",
        "colab_type": "text"
      },
      "source": [
        "先述の通り、RDD (耐障害性分散データセット) とは、複数のコンピュートノードに跨って配置されているデータのコレクションです。  \n",
        "RDDは複数のパーティションに分割されており、各パーティションに対する処理がクラスタ内の各ノード上で実行されます。"
      ]
    },
    {
      "cell_type": "markdown",
      "metadata": {
        "id": "KlngxuXZKwGE",
        "colab_type": "text"
      },
      "source": [
        "#### RDDを生成する方法"
      ]
    },
    {
      "cell_type": "markdown",
      "metadata": {
        "id": "TkekUqcxKy93",
        "colab_type": "text"
      },
      "source": [
        "* 外部のデータセットをロードする\n",
        "  * Hello, world! で行なった `filter` が該当"
      ]
    },
    {
      "cell_type": "markdown",
      "metadata": {
        "id": "-RHBhy_rvT6P",
        "colab_type": "text"
      },
      "source": [
        "* リストや集合等のプログラム内にあるデータを各ノードに配置する\n",
        "  * 1台のマシンにデータセットを全て持つ必要があるため、小規模なデータを用いたプロトタイピングで使われることが多い"
      ]
    },
    {
      "cell_type": "code",
      "metadata": {
        "id": "NwfgWhZCkHEb",
        "colab_type": "code",
        "colab": {}
      },
      "source": [
        "data = sc.parallelize(['hoge', 'fuga', 'foo', 'bar'])"
      ],
      "execution_count": 0,
      "outputs": []
    },
    {
      "cell_type": "markdown",
      "metadata": {
        "id": "NzKSqEIfK2xZ",
        "colab_type": "text"
      },
      "source": [
        "#### RDDに対して行える操作"
      ]
    },
    {
      "cell_type": "markdown",
      "metadata": {
        "id": "Pe4k7SvTK6wl",
        "colab_type": "text"
      },
      "source": [
        "* 変換\n",
        "   * あるRDDから新しいRDDを構築する処理\n",
        "   * Hello, world! で行なったURLを含む行を絞り込み処理が該当\n",
        "   * __初めてアクションが実行された時点で実行される (詳細後述)__\n",
        "* アクション\n",
        "   * RDDを元に結果を計算する処理\n",
        "   * 結果をドライバプログラムに戻す処理\n",
        "     * Hello, world! で行なった `collect` が該当\n",
        "   * 結果を外部のストレージシステムに保存する処理\n"
      ]
    },
    {
      "cell_type": "markdown",
      "metadata": {
        "id": "mZa6kFBnR6HP",
        "colab_type": "text"
      },
      "source": [
        "#### 変換がすぐ実行されない (初めてアクションが実行された時点で実行される) 理由"
      ]
    },
    {
      "cell_type": "markdown",
      "metadata": {
        "id": "_kAAklLXMAk-",
        "colab_type": "text"
      },
      "source": [
        "変換がすぐ実行されないのは必要なデータのみを取り込んで処理を行うためです。  \n",
        "Hello, world! の例で考えてみると、READMEからURLを含む行だけ読み込めば処理が成り立ちますが、逐次実行される場合、一旦全ての行を読み込んでから処理を行うことになります。  \n",
        "今回の場合はデータ量が多くないのでそれでも問題ありませんが、これが何万行もある文書だった場合、ストレージを無駄に消費することになってしまいます。  \n",
        "このようなことを防ぐため、変換はすぐ実行されないのです。"
      ]
    },
    {
      "cell_type": "markdown",
      "metadata": {
        "id": "ae8GHKx7SChE",
        "colab_type": "text"
      },
      "source": [
        "#### 永続化"
      ]
    },
    {
      "cell_type": "markdown",
      "metadata": {
        "id": "-LVtJaorSJdI",
        "colab_type": "text"
      },
      "source": [
        "RDDはそれに対するアクションが実行される度に計算し直されます。  \n",
        "もし、RDDを何度もアクションで利用するのであれば、 `persist` で永続化を行います。  "
      ]
    },
    {
      "cell_type": "code",
      "metadata": {
        "id": "ymImj7ZRB9P8",
        "colab_type": "code",
        "colab": {}
      },
      "source": [
        "lines.persist()"
      ],
      "execution_count": 0,
      "outputs": []
    },
    {
      "cell_type": "markdown",
      "metadata": {
        "id": "4_UBS1r7dhil",
        "colab_type": "text"
      },
      "source": [
        "永続化を行うと、メモリやディスク等のストレージにデータが保存され、それ以降のアクションでは保存されたデータを使用します。　\n",
        "\n",
        "なお、永続化がデフォルトで有効になっていないのは、RDDで1度しかアクションを実行しないのであればデータをストレージに保存する必要がなく、保存しない方が容量を削減できるためです。"
      ]
    },
    {
      "cell_type": "markdown",
      "metadata": {
        "id": "rq7jI2d7iD9q",
        "colab_type": "text"
      },
      "source": [
        "### RDDの操作"
      ]
    },
    {
      "cell_type": "markdown",
      "metadata": {
        "id": "pqE2p_ZIiT5w",
        "colab_type": "text"
      },
      "source": [
        "#### 変換"
      ]
    },
    {
      "cell_type": "markdown",
      "metadata": {
        "id": "WjZhIrBDxKw0",
        "colab_type": "text"
      },
      "source": [
        "RDDに対して変換を行うと新しいRDDが返されます。  \n",
        "例えば、以下の `lines` と `url_lines` は別のRDDとなります。"
      ]
    },
    {
      "cell_type": "code",
      "metadata": {
        "id": "XsqjvwppxKJ7",
        "colab_type": "code",
        "colab": {}
      },
      "source": [
        "lines = sc.textFile('sample_data/README.md')\n",
        "url_lines = lines.filter(lambda s: 'http' in s)"
      ],
      "execution_count": 0,
      "outputs": []
    },
    {
      "cell_type": "markdown",
      "metadata": {
        "id": "y570c8ElxyHa",
        "colab_type": "text"
      },
      "source": [
        "`lines` は他の変換処理を行う際に再利用できます。  \n",
        "従って、以下のようにCSVのファイル名を含む行を抽出するために `lines` を再利用することが可能です。"
      ]
    },
    {
      "cell_type": "code",
      "metadata": {
        "id": "EomtNlECx-Ew",
        "colab_type": "code",
        "colab": {}
      },
      "source": [
        "csv_lines = lines.filter(lambda s: '.csv' in s)"
      ],
      "execution_count": 0,
      "outputs": []
    },
    {
      "cell_type": "markdown",
      "metadata": {
        "id": "EYxjFPrTyvRL",
        "colab_type": "text"
      },
      "source": [
        "変換によって新たなRDDを生成するたびにSparkでは系統グラフと呼ばれるRDD間の依存関係を保持していきます (下図参照)。  \n",
        "系統グラフはRDDの計算を行なったり、永続化されたRDDに欠損が生じたときにデータを回復させたりする際に使用されます。"
      ]
    },
    {
      "cell_type": "markdown",
      "metadata": {
        "id": "LK3ZGgBZ0jkm",
        "colab_type": "text"
      },
      "source": [
        "![image.png](data:image/png;base64,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)"
      ]
    },
    {
      "cell_type": "markdown",
      "metadata": {
        "id": "bdU5NHF91grT",
        "colab_type": "text"
      },
      "source": [
        "なお、変換処理は遅延し、アクションで使用する際に初めて実行されます。"
      ]
    },
    {
      "cell_type": "markdown",
      "metadata": {
        "id": "Rkt0pDUF1VO3",
        "colab_type": "text"
      },
      "source": [
        "#### アクション"
      ]
    },
    {
      "cell_type": "markdown",
      "metadata": {
        "id": "Bv0jKloN1XlH",
        "colab_type": "text"
      },
      "source": [
        "変換ではRDDから新たなRDDを生成しましたが、この後RDDに対して何かしらの処理を行うことになります。この処理をアクションと言います。  \n",
        "具体的にはドライバプログラムに値を返したり、データをストレージに書き出したりする処理がアクションに該当します。  \n",
        "RDDに対してアクションを行うと、実際に出力を生成しないといけないため、そのRDDが必要とする変換処理が実行されます。"
      ]
    },
    {
      "cell_type": "markdown",
      "metadata": {
        "id": "_E90Pp7E2uSP",
        "colab_type": "text"
      },
      "source": [
        "アクションの例として、変換の節で生成した `url_lines` と `csv_lines` の内容を出力してみましょう。"
      ]
    },
    {
      "cell_type": "code",
      "metadata": {
        "id": "uHmrd0ak3-20",
        "colab_type": "code",
        "colab": {}
      },
      "source": [
        "# 例で表示する行数\n",
        "n = 10"
      ],
      "execution_count": 0,
      "outputs": []
    },
    {
      "cell_type": "code",
      "metadata": {
        "id": "wcYEITA6zgwL",
        "colab_type": "code",
        "colab": {}
      },
      "source": [
        "print(f'URLを含む行数: {url_lines.count()}')\n",
        "print(f'<例 ({n}件)>')\n",
        "for line in url_lines.take(n):\n",
        "  print(line)"
      ],
      "execution_count": 0,
      "outputs": []
    },
    {
      "cell_type": "code",
      "metadata": {
        "id": "TmQdOq6C34B6",
        "colab_type": "code",
        "colab": {}
      },
      "source": [
        "print(f'URLを含む行数: {csv_lines.count()}')\n",
        "print(f'<例 ({n}件)>')\n",
        "for line in csv_lines.take(n):\n",
        "  print(line)"
      ],
      "execution_count": 0,
      "outputs": []
    },
    {
      "cell_type": "markdown",
      "metadata": {
        "id": "dGCveWJg4fMb",
        "colab_type": "text"
      },
      "source": [
        "ここでは要素の個数を返す `count` と複数の要素を取得する `take` という2つのアクションを使用しています。  \n",
        "`take` に類似したアクションとして全ての要素を取得する `collect` もありますが (Hello, world! で使用)、このアクションを使用する場合はドライバプログラム側のマシンのメモリにデータセットが全て収まる必要があります。  \n",
        "従って、大きなデータセットに対しては `collect` 等を使用してドライバプログラム側に持ってくるのではなく、ストレージシステムに書き出すのが一般的です。"
      ]
    },
    {
      "cell_type": "markdown",
      "metadata": {
        "id": "SjnIAQnd7GHE",
        "colab_type": "text"
      },
      "source": [
        "なお、アクションを実行するたびに使用されるRDD全体が計算され直されます。  \n",
        "そのため、同じRDDに対して何度もアクションを実行する場合はRDDに対して永続化を行います。"
      ]
    },
    {
      "cell_type": "markdown",
      "metadata": {
        "id": "WP_chyWl70J9",
        "colab_type": "text"
      },
      "source": [
        "#### 遅延評価"
      ]
    },
    {
      "cell_type": "markdown",
      "metadata": {
        "id": "5-Z7GvmV71-_",
        "colab_type": "text"
      },
      "source": [
        "RDDに対する変換の評価は遅延します。すなわち、アクションが実行されるまで変換処理を行いません。  \n",
        "具体的にどういうことかというと、RDDに対する変換を呼び出したとき、変換処理を実行する代わりに、その処理が要求されたことを示すメタデータを内部的に記録します。  "
      ]
    },
    {
      "cell_type": "markdown",
      "metadata": {
        "id": "8fLRXlDp-eOo",
        "colab_type": "text"
      },
      "source": [
        "これにより、処理全体を見渡した上で、データセットに対する処理の回数を減らして実行することが可能になっています。  \n",
        "処理回数の削減は内部的に行われるため、ユーザーは変換処理の効率化に労力を割かなくても良くなっています。"
      ]
    },
    {
      "cell_type": "markdown",
      "metadata": {
        "id": "Aha37UEamdNL",
        "colab_type": "text"
      },
      "source": [
        "## SparkSQL"
      ]
    },
    {
      "cell_type": "markdown",
      "metadata": {
        "id": "HtU05DrTmime",
        "colab_type": "text"
      },
      "source": [
        "SparkSQLとは構造化データや半構造化データを扱うためのインターフェイスです。"
      ]
    },
    {
      "cell_type": "markdown",
      "metadata": {
        "id": "Y4TEnKl3o0aX",
        "colab_type": "text"
      },
      "source": [
        "### 初期化"
      ]
    },
    {
      "cell_type": "markdown",
      "metadata": {
        "id": "EBoXY0D_o3RJ",
        "colab_type": "text"
      },
      "source": [
        "`SparkContext` を元に `HiveContext` を構築し、 `HiveContext`　を起点に処理を行なっていきます。"
      ]
    },
    {
      "cell_type": "code",
      "metadata": {
        "id": "3KGWrRjpo3Ws",
        "colab_type": "code",
        "colab": {}
      },
      "source": [
        "from pyspark import HiveContext\n",
        "\n",
        "hive_sc = HiveContext(sc)"
      ],
      "execution_count": 0,
      "outputs": []
    },
    {
      "cell_type": "markdown",
      "metadata": {
        "id": "COPWq84UpaOV",
        "colab_type": "text"
      },
      "source": [
        "### 基本的なクエリ"
      ]
    },
    {
      "cell_type": "markdown",
      "metadata": {
        "id": "nYKtMbGGpcyx",
        "colab_type": "text"
      },
      "source": [
        "`sample_data/california_housing_train.csv` からデータを10件取得する処理を例に、基本的な流れを見てみましょう。"
      ]
    },
    {
      "cell_type": "markdown",
      "metadata": {
        "id": "8wEFM06YpuHn",
        "colab_type": "text"
      },
      "source": [
        "まず、 `sample_data/california_housing_train.csv` を読み込み、SpqrkSQL用の特殊な `RDD` である `DataFrame` を作成します。"
      ]
    },
    {
      "cell_type": "code",
      "metadata": {
        "id": "7RKeFalQpdBW",
        "colab_type": "code",
        "colab": {}
      },
      "source": [
        "housing = hive_sc.read.option('header', True).csv('sample_data/california_housing_train.csv')"
      ],
      "execution_count": 0,
      "outputs": []
    },
    {
      "cell_type": "markdown",
      "metadata": {
        "id": "Hw3Rul2CqMFI",
        "colab_type": "text"
      },
      "source": [
        "次に `DataFrame` をSparkSQLのView `housing` として登録します。"
      ]
    },
    {
      "cell_type": "code",
      "metadata": {
        "id": "gcpn1XJlqKhu",
        "colab_type": "code",
        "colab": {}
      },
      "source": [
        "housing.createOrReplaceTempView('housing')"
      ],
      "execution_count": 0,
      "outputs": []
    },
    {
      "cell_type": "markdown",
      "metadata": {
        "id": "NPjtz2pKqmBQ",
        "colab_type": "text"
      },
      "source": [
        "そして登録したView `housing` に対してクエリを実行します。"
      ]
    },
    {
      "cell_type": "code",
      "metadata": {
        "id": "Iix4b7jcqmH3",
        "colab_type": "code",
        "colab": {}
      },
      "source": [
        "housing_part = hive_sc.sql('SELECT * FROM housing LIMIT 10')"
      ],
      "execution_count": 0,
      "outputs": []
    },
    {
      "cell_type": "markdown",
      "metadata": {
        "id": "I3L_xkZtrXAw",
        "colab_type": "text"
      },
      "source": [
        "`DataFrame` の内容を取得してみると、10件取得できていることがわかります。"
      ]
    },
    {
      "cell_type": "code",
      "metadata": {
        "id": "m40cutSGrYLg",
        "colab_type": "code",
        "colab": {}
      },
      "source": [
        "# showでDataFrameの内容を取得できる\n",
        "housing_part.show()"
      ],
      "execution_count": 0,
      "outputs": []
    },
    {
      "cell_type": "markdown",
      "metadata": {
        "id": "K_aHSYAvApjW",
        "colab_type": "text"
      },
      "source": [
        "## 演習問題"
      ]
    },
    {
      "cell_type": "markdown",
      "metadata": {
        "id": "MWs0UeX7LiVd",
        "colab_type": "text"
      },
      "source": [
        "### 準備"
      ]
    },
    {
      "cell_type": "code",
      "metadata": {
        "id": "UT--3H_1LlFT",
        "colab_type": "code",
        "colab": {}
      },
      "source": [
        "# データ取得\n",
        "!git clone https://github.com/databricks/learning-spark"
      ],
      "execution_count": 0,
      "outputs": []
    },
    {
      "cell_type": "markdown",
      "metadata": {
        "id": "lG0B-JneAsP9",
        "colab_type": "text"
      },
      "source": [
        "### 特定の条件を満たすデータの件数を数える"
      ]
    },
    {
      "cell_type": "markdown",
      "metadata": {
        "id": "yG2QHa1qJ5sh",
        "colab_type": "text"
      },
      "source": [
        "`learning-spark/files/fake_logs/log1.log` に記録されている `71.19.157.174` からのアクセス回数を数えてみましょう。\n",
        "\n",
        "<ヒント>\n",
        "* `sc.textFile`: テキストファイルを読み込み、RDDを生成する\n",
        "* `filter`: データを絞り込む変換 (条件を満たすとき `True` を返すラムダ式や関数を引数に取る)\n",
        "* `count`: データの件数を数えるアクション"
      ]
    },
    {
      "cell_type": "code",
      "metadata": {
        "id": "SGj77TE2LARy",
        "colab_type": "code",
        "colab": {}
      },
      "source": [
        "# ログデータの内容\n",
        "!cat learning-spark/files/fake_logs/log1.log"
      ],
      "execution_count": 0,
      "outputs": []
    },
    {
      "cell_type": "code",
      "metadata": {
        "id": "1KGEbu8eKJO9",
        "colab_type": "code",
        "colab": {}
      },
      "source": [
        "# ここにプログラムを記述する\n"
      ],
      "execution_count": 0,
      "outputs": []
    },
    {
      "cell_type": "markdown",
      "metadata": {
        "id": "V2dH5m3MMvNK",
        "colab_type": "text"
      },
      "source": [
        "### データに対し変換を行い、その最小値, 最大値を取得する"
      ]
    },
    {
      "cell_type": "markdown",
      "metadata": {
        "id": "88lNZIXCPgBD",
        "colab_type": "text"
      },
      "source": [
        "`learning-spark/files/fake_logs/log1.log` に記録されている `71.19.157.174` からの最初のアクセスと最後のアクセスの日時を取得しましょう。\n",
        "\n",
        "<ヒント>\n",
        "* `map`: RDDの各要素に対し、引数で与えたラムダ式・関数を適用する変換\n",
        "* `min`: 最小値を返すアクション\n",
        "* `max`: 最大値を返すアクション"
      ]
    },
    {
      "cell_type": "code",
      "metadata": {
        "id": "a_cGydIEZGSM",
        "colab_type": "code",
        "colab": {}
      },
      "source": [
        "# ここにプログラムを記述する\n"
      ],
      "execution_count": 0,
      "outputs": []
    },
    {
      "cell_type": "markdown",
      "metadata": {
        "id": "e6Dmg2Cja6Fm",
        "colab_type": "text"
      },
      "source": [
        "### 片方のRDDに含まれる要素を除外する"
      ]
    },
    {
      "cell_type": "markdown",
      "metadata": {
        "id": "1vTtybVha3_w",
        "colab_type": "text"
      },
      "source": [
        "`sample_data/README.md` から以下のRDDを作成します。\n",
        "* `url_lines`: URLを含む行を抽出したRDD\n",
        "* `mnist_lines`: `mnist`, `MNIST` を含む行を抽出したRDD\n",
        "\n",
        "`url_lines` から `mnist_lines` を除外した (URLを含む行のうち、`mnist`, `MNIST` を含む行を除外した) データを取得しましょう。\n",
        "\n",
        "<ヒント>\n",
        "* `rdd_a.subtract(rdd_b)`: `rdd_a` から `rdd_b` に含まれる要素を除外する変換\n",
        "* `collect`: RDDの全要素を取得するアクション\n",
        "* `str.upper`: 文字列を大文字化する (Python標準の関数)\n",
        "* `str.lower`: 文字列を小文字化する (Python標準の関数)"
      ]
    },
    {
      "cell_type": "code",
      "metadata": {
        "id": "U0TzPdEjYbrX",
        "colab_type": "code",
        "colab": {}
      },
      "source": [
        "# sample_data/README.mdの内容\n",
        "!cat sample_data/README.md"
      ],
      "execution_count": 0,
      "outputs": []
    },
    {
      "cell_type": "code",
      "metadata": {
        "id": "xubfa7LvlsVG",
        "colab_type": "code",
        "colab": {}
      },
      "source": [
        "# ここにプログラムを記述する\n"
      ],
      "execution_count": 0,
      "outputs": []
    },
    {
      "cell_type": "markdown",
      "metadata": {
        "id": "IRoPGWlSlukm",
        "colab_type": "text"
      },
      "source": [
        "### RDDによる処理とSparkSQLを用いた処理の違い"
      ]
    },
    {
      "cell_type": "markdown",
      "metadata": {
        "id": "u0htWpCCr_OH",
        "colab_type": "text"
      },
      "source": [
        "`sample_data/california_housing_train.csv` を読み込み、 `population` の最大値を取得してみましょう。"
      ]
    },
    {
      "cell_type": "markdown",
      "metadata": {
        "id": "pcfut91ysVu5",
        "colab_type": "text"
      },
      "source": [
        "#### 通常のRDDで行う場合"
      ]
    },
    {
      "cell_type": "code",
      "metadata": {
        "id": "5iOlJRP8QxmS",
        "colab_type": "code",
        "colab": {}
      },
      "source": [
        "# ここにプログラムを記述する\n"
      ],
      "execution_count": 0,
      "outputs": []
    },
    {
      "cell_type": "markdown",
      "metadata": {
        "id": "cum4jQ0nsauk",
        "colab_type": "text"
      },
      "source": [
        "#### SparkSQLで行う場合"
      ]
    },
    {
      "cell_type": "markdown",
      "metadata": {
        "id": "0tv7QNJHtvCL",
        "colab_type": "text"
      },
      "source": [
        "<ヒント>\n",
        "* `MAX(column)`: `column` の最大値を取る (SparkSQL)"
      ]
    },
    {
      "cell_type": "code",
      "metadata": {
        "id": "5FSHCoIzhBVW",
        "colab_type": "code",
        "colab": {}
      },
      "source": [
        "# ここにプログラムを記述する\n"
      ],
      "execution_count": 0,
      "outputs": []
    },
    {
      "cell_type": "markdown",
      "metadata": {
        "id": "1voZlIFo_qqK",
        "colab_type": "text"
      },
      "source": [
        "## 参考文献"
      ]
    },
    {
      "cell_type": "markdown",
      "metadata": {
        "id": "NF_cgEqi_tBJ",
        "colab_type": "text"
      },
      "source": [
        "* Holden Karau, Andy Konwinski, Patrick Wendell, Matei Zaharia (著), 玉川竜司 (訳), 初めてのSpark, 株式会社オライリー・ジャパン  \n",
        "( https://www.amazon.co.jp/%E5%88%9D%E3%82%81%E3%81%A6%E3%81%AESpark-Holden-Karau/dp/4873117348 )"
      ]
    }
  ]
}